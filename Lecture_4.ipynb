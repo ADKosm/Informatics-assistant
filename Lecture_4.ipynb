{
 "cells": [
  {
   "cell_type": "markdown",
   "metadata": {},
   "source": [
    "# Модули для работы с коллекциями в Pyhon\n",
    "\n",
    "Питон из коробки предоставляет стандартный набор коллекций. Каждая коллекция позволяет совершать с собой простые действия, такие как вставка, удаление, поиск, etc. Чтобы каждый раз не реализовывать более сложные алгоритмы на коллекциях, в стандартную поставку Питона прилагаются несколько модулей, призванных облегчить жизнь разработчику."
   ]
  },
  {
   "cell_type": "markdown",
   "metadata": {},
   "source": [
    "# Itertools"
   ]
  },
  {
   "cell_type": "code",
   "execution_count": 2,
   "metadata": {
    "collapsed": true
   },
   "outputs": [],
   "source": [
    "# Подключим все функции, предоставляемые модулем Itertools\n",
    "from itertools import *"
   ]
  },
  {
   "cell_type": "code",
   "execution_count": 4,
   "metadata": {
    "collapsed": false
   },
   "outputs": [
    {
     "name": "stdout",
     "output_type": "stream",
     "text": [
      "(1, 2, 3, 4)\n",
      "(1, 2, 4, 3)\n",
      "(1, 3, 2, 4)\n",
      "(1, 3, 4, 2)\n",
      "(1, 4, 2, 3)\n",
      "(1, 4, 3, 2)\n",
      "(2, 1, 3, 4)\n",
      "(2, 1, 4, 3)\n",
      "(2, 3, 1, 4)\n",
      "(2, 3, 4, 1)\n",
      "(2, 4, 1, 3)\n",
      "(2, 4, 3, 1)\n",
      "(3, 1, 2, 4)\n",
      "(3, 1, 4, 2)\n",
      "(3, 2, 1, 4)\n",
      "(3, 2, 4, 1)\n",
      "(3, 4, 1, 2)\n",
      "(3, 4, 2, 1)\n",
      "(4, 1, 2, 3)\n",
      "(4, 1, 3, 2)\n",
      "(4, 2, 1, 3)\n",
      "(4, 2, 3, 1)\n",
      "(4, 3, 1, 2)\n",
      "(4, 3, 2, 1)\n"
     ]
    }
   ],
   "source": [
    "# Itertools позволяет итерироваться по всем возможным перестановкам элементов списка\n",
    "s = [1, 2, 3, 4]\n",
    "for i in permutations(s):\n",
    "    print(i)"
   ]
  },
  {
   "cell_type": "code",
   "execution_count": 5,
   "metadata": {
    "collapsed": false
   },
   "outputs": [
    {
     "name": "stdout",
     "output_type": "stream",
     "text": [
      "24\n"
     ]
    }
   ],
   "source": [
    "# Важно, что permutatuins возвращает не список, а итерируемый объект\n",
    "# Поэтому, если необходимо как то работать с множеством всех перестановок, то вначале необходимо \n",
    "# сделать из него список\n",
    "p = list(permutations(s))\n",
    "print(len(p))"
   ]
  },
  {
   "cell_type": "code",
   "execution_count": 8,
   "metadata": {
    "collapsed": false
   },
   "outputs": [
    {
     "name": "stdout",
     "output_type": "stream",
     "text": [
      "('C', 'a', 't')\n",
      "('C', 't', 'a')\n",
      "('a', 'C', 't')\n",
      "('a', 't', 'C')\n",
      "('t', 'C', 'a')\n",
      "('t', 'a', 'C')\n",
      "----------\n",
      "('c', 'a', 'b')\n",
      "('c', 'b', 'a')\n",
      "('a', 'c', 'b')\n",
      "('a', 'b', 'c')\n",
      "('b', 'c', 'a')\n",
      "('b', 'a', 'c')\n",
      "----------\n",
      "(1, 4, 9)\n",
      "(1, 9, 4)\n",
      "(4, 1, 9)\n",
      "(4, 9, 1)\n",
      "(9, 1, 4)\n",
      "(9, 4, 1)\n"
     ]
    }
   ],
   "source": [
    "# Перестановки можно генерировать не только для списков, но и для любых итерируемых объектов\n",
    "a = \"Cat\"\n",
    "b = {\"a\", \"b\", \"c\"}\n",
    "def myIter(n):\n",
    "    a = 1\n",
    "    while a <= n:\n",
    "        yield a**2\n",
    "        a += 1\n",
    "        \n",
    "for i in permutations(a):\n",
    "    print(i)\n",
    "\n",
    "print(\"-\"*10)\n",
    "    \n",
    "for i in permutations(b):\n",
    "    print(i)\n",
    "    \n",
    "print(\"-\"*10)\n",
    "    \n",
    "for i in permutations(myIter(3)):\n",
    "    print(i)"
   ]
  },
  {
   "cell_type": "code",
   "execution_count": 9,
   "metadata": {
    "collapsed": false
   },
   "outputs": [
    {
     "name": "stdout",
     "output_type": "stream",
     "text": [
      "('A', 'B')\n",
      "('A', 'C')\n",
      "('A', 'D')\n",
      "('B', 'C')\n",
      "('B', 'D')\n",
      "('C', 'D')\n"
     ]
    }
   ],
   "source": [
    "# Помимо всех перестановок, можно также выбирать несколько элементов из списка\n",
    "s = \"ABCD\"\n",
    "for i in combinations(s, 2): # Второй парамерт указывает, сколько элементов нужно выбрать\n",
    "    print(i)"
   ]
  },
  {
   "cell_type": "code",
   "execution_count": 10,
   "metadata": {
    "collapsed": false
   },
   "outputs": [
    {
     "name": "stdout",
     "output_type": "stream",
     "text": [
      "('A', 'B', 'C')\n",
      "('A', 'B', 'D')\n",
      "('A', 'C', 'D')\n",
      "('B', 'C', 'D')\n"
     ]
    }
   ],
   "source": [
    "for i in combinations(s, 3): # Второй парамерт указывает, сколько элементов нужно выбрать\n",
    "    print(i)"
   ]
  },
  {
   "cell_type": "code",
   "execution_count": 12,
   "metadata": {
    "collapsed": false
   },
   "outputs": [
    {
     "name": "stdout",
     "output_type": "stream",
     "text": [
      "('A', 'A', 'A')\n",
      "('A', 'A', 'B')\n",
      "('A', 'A', 'C')\n",
      "('A', 'A', 'D')\n",
      "('A', 'B', 'B')\n",
      "('A', 'B', 'C')\n",
      "('A', 'B', 'D')\n",
      "('A', 'C', 'C')\n",
      "('A', 'C', 'D')\n",
      "('A', 'D', 'D')\n",
      "('B', 'B', 'B')\n",
      "('B', 'B', 'C')\n",
      "('B', 'B', 'D')\n",
      "('B', 'C', 'C')\n",
      "('B', 'C', 'D')\n",
      "('B', 'D', 'D')\n",
      "('C', 'C', 'C')\n",
      "('C', 'C', 'D')\n",
      "('C', 'D', 'D')\n",
      "('D', 'D', 'D')\n"
     ]
    }
   ],
   "source": [
    "# Также есть возможность выбираеть элементы с повторениями\n",
    "for i in combinations_with_replacement(s, 3):\n",
    "    print(i)"
   ]
  },
  {
   "cell_type": "code",
   "execution_count": 13,
   "metadata": {
    "collapsed": false
   },
   "outputs": [
    {
     "name": "stdout",
     "output_type": "stream",
     "text": [
      "(1, 'A')\n",
      "(1, 'B')\n",
      "(1, 'C')\n",
      "(2, 'A')\n",
      "(2, 'B')\n",
      "(2, 'C')\n",
      "(3, 'A')\n",
      "(3, 'B')\n",
      "(3, 'C')\n"
     ]
    }
   ],
   "source": [
    "# Itertools предоставляет возможность получить декартово произведение коллекций\n",
    "for i in product([1, 2, 3], \"ABC\"):\n",
    "    print(i)"
   ]
  },
  {
   "cell_type": "code",
   "execution_count": 14,
   "metadata": {
    "collapsed": false
   },
   "outputs": [
    {
     "name": "stdout",
     "output_type": "stream",
     "text": [
      "(1, 'A', False, 1)\n",
      "(1, 'A', False, 4)\n",
      "(1, 'A', False, 9)\n",
      "(1, 'A', True, 1)\n",
      "(1, 'A', True, 4)\n",
      "(1, 'A', True, 9)\n",
      "(1, 'B', False, 1)\n",
      "(1, 'B', False, 4)\n",
      "(1, 'B', False, 9)\n",
      "(1, 'B', True, 1)\n",
      "(1, 'B', True, 4)\n",
      "(1, 'B', True, 9)\n",
      "(1, 'C', False, 1)\n",
      "(1, 'C', False, 4)\n",
      "(1, 'C', False, 9)\n",
      "(1, 'C', True, 1)\n",
      "(1, 'C', True, 4)\n",
      "(1, 'C', True, 9)\n",
      "(2, 'A', False, 1)\n",
      "(2, 'A', False, 4)\n",
      "(2, 'A', False, 9)\n",
      "(2, 'A', True, 1)\n",
      "(2, 'A', True, 4)\n",
      "(2, 'A', True, 9)\n",
      "(2, 'B', False, 1)\n",
      "(2, 'B', False, 4)\n",
      "(2, 'B', False, 9)\n",
      "(2, 'B', True, 1)\n",
      "(2, 'B', True, 4)\n",
      "(2, 'B', True, 9)\n",
      "(2, 'C', False, 1)\n",
      "(2, 'C', False, 4)\n",
      "(2, 'C', False, 9)\n",
      "(2, 'C', True, 1)\n",
      "(2, 'C', True, 4)\n",
      "(2, 'C', True, 9)\n",
      "(3, 'A', False, 1)\n",
      "(3, 'A', False, 4)\n",
      "(3, 'A', False, 9)\n",
      "(3, 'A', True, 1)\n",
      "(3, 'A', True, 4)\n",
      "(3, 'A', True, 9)\n",
      "(3, 'B', False, 1)\n",
      "(3, 'B', False, 4)\n",
      "(3, 'B', False, 9)\n",
      "(3, 'B', True, 1)\n",
      "(3, 'B', True, 4)\n",
      "(3, 'B', True, 9)\n",
      "(3, 'C', False, 1)\n",
      "(3, 'C', False, 4)\n",
      "(3, 'C', False, 9)\n",
      "(3, 'C', True, 1)\n",
      "(3, 'C', True, 4)\n",
      "(3, 'C', True, 9)\n"
     ]
    }
   ],
   "source": [
    "# Декартово можно перемножать любое количество коллекций\n",
    "for i in product([1, 2, 3], \"ABC\", {True, False}, myIter(3)):\n",
    "    print(i)"
   ]
  },
  {
   "cell_type": "code",
   "execution_count": 16,
   "metadata": {
    "collapsed": false
   },
   "outputs": [
    {
     "name": "stdout",
     "output_type": "stream",
     "text": [
      "0: A\n",
      "1: B\n",
      "2: C\n",
      "3: D\n",
      "4: A\n",
      "5: B\n",
      "6: C\n",
      "7: D\n",
      "8: A\n",
      "9: B\n",
      "10: C\n",
      "11: D\n",
      "12: A\n",
      "13: B\n",
      "14: C\n",
      "15: D\n",
      "16: A\n",
      "17: B\n",
      "18: C\n",
      "19: D\n",
      "20: A\n"
     ]
    }
   ],
   "source": [
    "# Cycle в Itertools позволяет бесконечно перебирать элементы из коллекции\n",
    "count = 0\n",
    "for i in cycle(\"ABCD\"):\n",
    "    if count > 20:\n",
    "        break # условие остановки важно, так как в противном случае программа зависнет в цикле\n",
    "    print(\"{0}: {1}\".format(count, i))\n",
    "    count += 1"
   ]
  },
  {
   "cell_type": "code",
   "execution_count": 17,
   "metadata": {
    "collapsed": false
   },
   "outputs": [
    {
     "name": "stdout",
     "output_type": "stream",
     "text": [
      "0: A\n",
      "1: B\n",
      "2: C\n",
      "3: D\n",
      "4: A\n",
      "5: B\n",
      "6: C\n",
      "7: D\n",
      "8: A\n",
      "9: B\n",
      "10: C\n",
      "11: D\n",
      "12: A\n",
      "13: B\n",
      "14: C\n",
      "15: D\n",
      "16: A\n",
      "17: B\n",
      "18: C\n",
      "19: D\n",
      "20: A\n"
     ]
    }
   ],
   "source": [
    "# Чтобы руками не задавать переменную, определяющую конец цикла, можно использовать enumerate\n",
    "# Эта функция к каждому элементу приписывает номер итерации, в которой этот элемент участвоваол\n",
    "for i, e in enumerate(cycle(\"ABCD\")): # в i попадает номер итерации, а в e само значение\n",
    "    if i > 20:\n",
    "        break\n",
    "    print(\"{0}: {1}\".format(i, e))"
   ]
  },
  {
   "cell_type": "code",
   "execution_count": 18,
   "metadata": {
    "collapsed": false
   },
   "outputs": [
    {
     "name": "stdout",
     "output_type": "stream",
     "text": [
      "0 H\n",
      "1 e\n",
      "2 l\n",
      "3 l\n",
      "4 o\n"
     ]
    }
   ],
   "source": [
    "for i, e in enumerate(\"Hello\"):\n",
    "    print(i, e)"
   ]
  },
  {
   "cell_type": "code",
   "execution_count": 24,
   "metadata": {
    "collapsed": false
   },
   "outputs": [
    {
     "name": "stdout",
     "output_type": "stream",
     "text": [
      "0\n",
      "1\n",
      "2\n",
      "3\n",
      "4\n",
      "5\n",
      "6\n",
      "7\n",
      "8\n",
      "9\n",
      "10\n",
      "11\n",
      "12\n",
      "13\n",
      "14\n",
      "15\n",
      "16\n",
      "17\n",
      "18\n",
      "19\n"
     ]
    }
   ],
   "source": [
    "# takewhile позволяет выбирать элементы из коллекции до выполнения заданного условия\n",
    "for i in takewhile(lambda x: x<20, range(100)):\n",
    "    print(i)"
   ]
  },
  {
   "cell_type": "code",
   "execution_count": 26,
   "metadata": {
    "collapsed": false
   },
   "outputs": [
    {
     "data": {
      "text/plain": [
       "['__doc__',\n",
       " '__loader__',\n",
       " '__name__',\n",
       " '__package__',\n",
       " '__spec__',\n",
       " '_grouper',\n",
       " '_tee',\n",
       " '_tee_dataobject',\n",
       " 'accumulate',\n",
       " 'chain',\n",
       " 'combinations',\n",
       " 'combinations_with_replacement',\n",
       " 'compress',\n",
       " 'count',\n",
       " 'cycle',\n",
       " 'dropwhile',\n",
       " 'filterfalse',\n",
       " 'groupby',\n",
       " 'islice',\n",
       " 'permutations',\n",
       " 'product',\n",
       " 'repeat',\n",
       " 'starmap',\n",
       " 'takewhile',\n",
       " 'tee',\n",
       " 'zip_longest']"
      ]
     },
     "execution_count": 26,
     "metadata": {},
     "output_type": "execute_result"
    }
   ],
   "source": [
    "# Помимо этих функций в itertools есть еще несколько\n",
    "import itertools\n",
    "dir(itertools) # функции, в имено которых есть __ - приватные"
   ]
  },
  {
   "cell_type": "markdown",
   "metadata": {},
   "source": [
    "Более подробно о них можно почитать на официальном сайте \n",
    "https://docs.python.org/2/library/itertools.html"
   ]
  },
  {
   "cell_type": "markdown",
   "metadata": {},
   "source": [
    "# Модуль Collections"
   ]
  },
  {
   "cell_type": "code",
   "execution_count": 27,
   "metadata": {
    "collapsed": true
   },
   "outputs": [],
   "source": [
    "# Модуль Collections предоставляет дополнительные специализированные коллекции\n",
    "# Подключим его\n",
    "import collections"
   ]
  },
  {
   "cell_type": "code",
   "execution_count": 30,
   "metadata": {
    "collapsed": false
   },
   "outputs": [
    {
     "name": "stdout",
     "output_type": "stream",
     "text": [
      "Counter({'e': 12, ' ': 10, 'i': 8, ',': 8, '\\n': 5, 'n': 4, 'r': 4, 't': 4, 'c': 3, 'h': 3, 'l': 2, 'A': 2, 'S': 2, 'a': 2, 's': 2, 'G': 2, 'u': 2, 'N': 1, 'E': 1, 'P': 1, 'z': 1, 'w': 1, 'o': 1, 'x': 1, 'F': 1, 'D': 1, 'H': 1, 'V': 1, 'b': 1, 'Z': 1, 'd': 1, 'f': 1})\n"
     ]
    }
   ],
   "source": [
    "# Для удобного подсчета элементов существует объект Counter\n",
    "# Он очень похож на стандартный словарь, за тем исключением, что если нет значения по ключу\n",
    "# то он автоматически выставит 0, а не выкинет ошибку\n",
    "vers = \"\"\"\n",
    "Eins, Zwei, Polizei\n",
    "Drei, Vier, Grenadier\n",
    "Funf, Sechs, Alte Hex\n",
    "Sieben, Acht, Gute Nacht\n",
    "\"\"\"\n",
    "\n",
    "letters = collections.Counter()\n",
    "\n",
    "for i in vers:\n",
    "    letters[i] += 1\n",
    "\n",
    "print(letters) # Counter выдает значения в порядке убывания"
   ]
  },
  {
   "cell_type": "code",
   "execution_count": 32,
   "metadata": {
    "collapsed": false
   },
   "outputs": [
    {
     "name": "stdout",
     "output_type": "stream",
     "text": [
      "defaultdict(<class 'list'>, {0: [0, 3, 6, 9], 1: [1, 4, 7], 2: [2, 5, 8]})\n"
     ]
    }
   ],
   "source": [
    "# Defaultdict также мало чем отличается от стандартного словаря. Разница в том, что при осутствии значения по ключу\n",
    "# будет созданно заданное значение по умолчанию\n",
    "# Counter по сути это просто defaultdict(int)\n",
    "\n",
    "s = collections.defaultdict(list) # если значения нет, будет создан новый list\n",
    "\n",
    "for i in range(10):\n",
    "    s[i % 3].append(i) # не нужно проверять на существование\n",
    "\n",
    "print(s)"
   ]
  },
  {
   "cell_type": "code",
   "execution_count": 34,
   "metadata": {
    "collapsed": false
   },
   "outputs": [
    {
     "name": "stdout",
     "output_type": "stream",
     "text": [
      "defaultdict(<function <lambda> at 0x7f2dc9453158>, {0: ['A', 'B', 'C', 0, 3, 6, 9], 1: ['A', 'B', 'C', 1, 4, 7], 2: ['A', 'B', 'C', 2, 5, 8]})\n"
     ]
    }
   ],
   "source": [
    "s = collections.defaultdict(lambda: [\"A\", \"B\", \"C\"]) # если значения нет, будет создан [\"A\", \"B\", \"C\"]\n",
    "\n",
    "for i in range(10):\n",
    "    s[i % 3].append(i)\n",
    "    \n",
    "print(s)"
   ]
  },
  {
   "cell_type": "code",
   "execution_count": 39,
   "metadata": {
    "collapsed": false
   },
   "outputs": [
    {
     "name": "stdout",
     "output_type": "stream",
     "text": [
      "OrderedDict([(20, 8000), (19, 6859), (18, 5832), (17, 4913), (16, 4096), (15, 3375), (14, 2744), (13, 2197), (12, 1728), (11, 1331), (10, 1000), (9, 729), (8, 512), (7, 343), (6, 216), (5, 125), (4, 64), (3, 27), (2, 8), (1, 1)])\n",
      "----------\n",
      "{1: 1, 2: 8, 3: 27, 4: 64, 5: 125, 6: 216, 7: 343, 8: 512, 9: 729, 10: 1000, 11: 1331, 12: 1728, 13: 2197, 14: 2744, 15: 3375, 16: 4096, 17: 4913, 18: 5832, 19: 6859, 20: 8000}\n"
     ]
    }
   ],
   "source": [
    "# OrderedDict - еще одна разновидность словаря. В этот раз он помнит порядок, в котором добавлялись элементы\n",
    "\n",
    "a = collections.OrderedDict()\n",
    "b = dict()\n",
    "\n",
    "for i in range(20, 0, -1):\n",
    "    a[i] = i**3\n",
    "    b[i] = i**3\n",
    "    \n",
    "print(a) # Элементы также будут в обратном порядке\n",
    "print(\"-\" * 10)\n",
    "print(b) # Элементы будут в произвольном порядке"
   ]
  },
  {
   "cell_type": "code",
   "execution_count": 42,
   "metadata": {
    "collapsed": false
   },
   "outputs": [
    {
     "name": "stdout",
     "output_type": "stream",
     "text": [
      "Petr Borzh 27\n",
      "Petr Borzh 27\n",
      "person(name='Petr', surname='Borzh', age=27)\n"
     ]
    }
   ],
   "source": [
    "# namedtuple - разновидность кортежа, в котором элементы имеют имя\n",
    "Person = collections.namedtuple('person', ['name', 'surname', 'age']) # задание шаблона\n",
    "a = Person(name = \"Petr\", surname = \"Borzh\", age = 27) # создание объекта\n",
    "print(a.name, a.surname, a.age)\n",
    "print(a[0], a[1], a[2])\n",
    "print(a)"
   ]
  },
  {
   "cell_type": "markdown",
   "metadata": {},
   "source": [
    "Более подробно о модуле Collections можно почитать на официальном сайте https://docs.python.org/2/library/collections.html"
   ]
  },
  {
   "cell_type": "markdown",
   "metadata": {},
   "source": [
    "# Регулярные выражения"
   ]
  },
  {
   "cell_type": "code",
   "execution_count": 43,
   "metadata": {
    "collapsed": true
   },
   "outputs": [],
   "source": [
    "# Регулярные выражения - специальный язык, предназначеный для произведения манипуляций со строками\n",
    "# Подключим соответствующий модуль\n",
    "import re"
   ]
  },
  {
   "cell_type": "code",
   "execution_count": 48,
   "metadata": {
    "collapsed": false
   },
   "outputs": [],
   "source": [
    "pushkin = \"\"\"\n",
    "Я помню чудное мгновенье:\n",
    "Передо мной явилась ты,\n",
    "Как мимолетное виденье,\n",
    "Как гений чистой красоты.\n",
    "\n",
    "В томленьях грусти безнадежной,\n",
    "В тревогах шумной суеты,\n",
    "Звучал мне долго голос нежный\n",
    "И снились милые черты.\n",
    "\n",
    "Шли годы. Бурь порыв мятежный\n",
    "Рассеял прежние мечты,\n",
    "И я забыл твой голос нежный,\n",
    "Твои небесные черты.\n",
    "\n",
    "В глуши, во мраке заточенья\n",
    "Тянулись тихо дни мои\n",
    "Без божества, без вдохновенья,\n",
    "Без слез, без жизни, без любви.\n",
    "\n",
    "Душе настало пробужденье:\n",
    "И вот опять явилась ты,\n",
    "Как мимолетное виденье,\n",
    "Как гений чистой красоты.\n",
    "\n",
    "И сердце бьется в упоенье,\n",
    "И для него воскресли вновь\n",
    "И божество, и вдохновенье,\n",
    "И жизнь, и слезы, и любовь.\n",
    "\"\"\""
   ]
  },
  {
   "cell_type": "code",
   "execution_count": 55,
   "metadata": {
    "collapsed": false
   },
   "outputs": [
    {
     "name": "stdout",
     "output_type": "stream",
     "text": [
      "22\n"
     ]
    }
   ],
   "source": [
    "# Для того, чтобы найти подстроку, можно использовать встроенную функцию строки find\n",
    "num = pushkin.find(\"нье\")\n",
    "print(num) # номер символа, который содержит искомую подстроку"
   ]
  },
  {
   "cell_type": "code",
   "execution_count": 57,
   "metadata": {
    "collapsed": false
   },
   "outputs": [
    {
     "name": "stdout",
     "output_type": "stream",
     "text": [
      "['мгновенье', 'виденье', 'пробужденье', 'виденье', 'упоенье', 'вдохновенье']\n"
     ]
    }
   ],
   "source": [
    "# Регулярные выражения позволяют делать гораздо более мощный поиск по строке\n",
    "words = re.findall(\"[A-Яа-я]*нье\", pushkin) # Поиск ведется не по конкретной строке, а по шаблону, указанному в поиске\n",
    "print(words) # В данном случае, все слова, которые оканчиваются на нье"
   ]
  },
  {
   "cell_type": "markdown",
   "metadata": {},
   "source": [
    "Краткий обзор символов, использующихся в шаблонах регулярных выражений\n",
    "\n",
    "#### [abc] - на месте данной конструкции может быть любой символ из тех, что записал в скобках\n",
    "\n",
    "Пример: [0123456789] - любая цифра. Чтобы не переписывать все значения из какого-то диапазона, можно просто указать его границы:\n",
    "\n",
    "* [0-9] - эта запись эквиавалентна [0123456789]\n",
    "* [A-Z] - любая заглавная буква\n",
    "* [A-Za-z] - любая буква\n",
    "\n",
    "Внутри [] также можно использовать специальный символ ^ - он наоборот показывает, какие символы не могу встречаться на этом месте\n",
    "\n",
    "Пример: [^A] - любой символ, кроме A\n",
    "\n",
    "#### \\* - указывает на то, что символ может повторяться любое количество раз\n",
    "\n",
    "Пример: a* - найдет любые подстроки, сотсоящие из любого количества букв а\n",
    "\n",
    "* [0-9]* - любая последовательность цифр\n",
    "* [A-Z]* - любая последовательность заглавных букв\n",
    "\n",
    "#### ? - указывает на то, что символ может появиться, а может и нет\n",
    "\n",
    "Пример: cars? - найдет слова car и cars\n",
    "\n",
    "#### + - указывает на то, что символ может повторяться любое количество раз, но большее единицы\n",
    "\n",
    "Пример: Ye+ - найдет Ye, Yeee, Yeeeee, ..., но не найдет просто Y\n",
    "\n",
    "#### ^ - указывает на начало строки\n",
    "\n",
    "Пример: ^H в строке \"Hello Harry!\" найдет H в слове Hello, но не найдет H в слове Harry\n",
    "\n",
    "#### $ - указывает на конец строки\n",
    "\n",
    "Пример: a$ в строке \"Baraka Obama\" найдет a в слове Obama, но не найдет a в слове Baraka\n",
    "\n",
    "Более подробно о языке регулярных выражений можно прочесть, к примеру, на [Википедии](https://ru.wikipedia.org/wiki/%D0%A0%D0%B5%D0%B3%D1%83%D0%BB%D1%8F%D1%80%D0%BD%D1%8B%D0%B5_%D0%B2%D1%8B%D1%80%D0%B0%D0%B6%D0%B5%D0%BD%D0%B8%D1%8F)"
   ]
  },
  {
   "cell_type": "code",
   "execution_count": 69,
   "metadata": {
    "collapsed": false
   },
   "outputs": [
    {
     "name": "stdout",
     "output_type": "stream",
     "text": [
      "<!DOCTYPE html>\n",
      "<html>\n",
      "\n",
      "\n",
      "\n",
      "\n",
      "\n",
      "\n",
      "\n",
      "<head>\n",
      "\t<title>Национальный исследовательский университет Высшая школа\n"
     ]
    }
   ],
   "source": [
    "# Для небольшой демонстрации, подключим модуль для работы с сетью, скачаем старничку в интернете и что-нибудь на ней\n",
    "# найдем\n",
    "import urllib.request\n",
    "text = urllib.request.urlopen(\"http://hse.ru\").read().decode(\"utf-8\") # главная страница ВШЭ\n",
    "print(text[:100]) # исходный html - код "
   ]
  },
  {
   "cell_type": "code",
   "execution_count": 61,
   "metadata": {
    "collapsed": false
   },
   "outputs": [
    {
     "name": "stdout",
     "output_type": "stream",
     "text": [
      "<a href=\"#news\">Новости</a>\n",
      "<a href=\"#abitur\">Вышка 360°</a>\n",
      "<a href=\"#events\">Мероприятия</a>\n",
      "<a href=\"#around_hse\">Вокруг Вышки</a>\n",
      "<a href=\"#contacts\">Контакты</a>\n",
      "<a href=\"#sitemap\">Карта сайта</a>\n",
      "<a href=\"https://strategy.hse.ru/\">Программа развития</a>\n",
      "<a href=\"https://www.hse.ru/education/faculty/\">Факультеты и институты</a>\n",
      "<a href=\"https://www.hse.ru/org/persons/\">Преподаватели и сотрудники</a>\n",
      "<a href=\"https://alumni.hse.ru/\">Выпускники</a>\n",
      "<a href=\"https://spasibo.hse.ru/\">Спасибо, Вышка</a>\n",
      "<a href=\"https://www.hse.ru/studyspravka/kontr\">Особенности учебного процесса</a>\n",
      "<a href=\"https://electives.hse.ru/\">Выбор траектории обучения</a>\n",
      "<a href=\"https://www.hse.ru/standards/\">Образовательные стандарты</a>\n",
      "<a href=\"https://www.hse.ru/deprog/quality_edu\">Оценка качества образования</a>\n",
      "<a href=\"https://www.hse.ru/education/\">Бакалавриат</a>\n",
      "<a href=\"https://www.hse.ru/education/#magister\">Магистратура</a>\n",
      "<a href=\"https://aspirantura.hse.ru/asp_school\">Аспирантские школы</a>\n",
      "<a href=\"https://busedu.hse.ru/\">Второе высшее, дополнительное и бизнес-образование</a>\n",
      "<a href=\"https://www.hse.ru/sumschool/\">Летние школы</a>\n",
      "<a href=\"https://fdp.hse.ru/ischool\">Дистанционные курсы для школьников</a>\n",
      "<a href=\"https://publications.hse.ru/\">Публикации</a>\n",
      "<a href=\"https://www.hse.ru/science/journals\">Журналы ВШЭ</a>\n",
      "<a href=\"https://www.hse.ru/news/announcements/scientific_actions/\">Научные мероприятия</a>\n",
      "<a href=\"https://www.hse.ru/ru/interlabs/\">Международные лаборатории</a>\n",
      "<a href=\"https://www.hse.ru/science/hsegrants\">Конкурсы и гранты</a>\n",
      "<a href=\"https://academics.hse.ru/\">Академическое развитие</a>\n",
      "<a href=\"http://www.hse.ru/monitoring/\">Мониторинги</a>\n",
      "<a href=\"http://issek.hse.ru/trendletter/\">Трендлеттеры</a>\n",
      "<a href=\"http://map.cluster.hse.ru/\">Карта кластеров</a>\n",
      "<a href=\"https://www.hse.ru/figures/\">Цифры и факты</a>\n",
      "<a href=\"http://strategy.hse.ru/rating\">НИУ ВШЭ в рейтингах</a>\n",
      "<a href=\"https://www.hse.ru/orgstructure/\">Оргструктура</a>\n",
      "<a href=\"https://www.hse.ru/buildinghse\">Корпуса и общежития</a>\n",
      "<a href=\"https://ep.hse.ru/\">Единая приемная</a>\n",
      "<a href=\"https://endowment.hse.ru/\">Фонд целевого капитала</a>\n",
      "<a href=\"https://www.hse.ru/abiturient\">Поступление</a>\n",
      "<a href=\"http://shkolnikam.hse.ru/\">Школьникам</a>\n",
      "<a href=\"http://olymp.hse.ru/\">Олимпиады</a>\n",
      "<a href=\"http://ba.hse.ru\">Бакалавриат</a>\n",
      "<a href=\"http://ma.hse.ru\">Магистратура</a>\n",
      "<a href=\"http://aspirantura.hse.ru/\">Аспирантура</a>\n",
      "<a href=\"http://busedu.hse.ru\">Дополнительное и бизнес-образование</a>\n",
      "<a href=\"https://www.hse.ru/ege/rating/2016/68395231/gos/?rlist=&uplist=&vuz-abiturients-budget-order=ge&vuz-abiturients-budget-val=300\">\n",
      "\t\t\t\t\t\t\t\tМониторинг качества приема в российские вузы\n",
      "\t\t\t\t\t\t\t</a>\n",
      "<a href=\"https://www.hse.ru/hselang/\">\n",
      "\t\t\t\t\t\t\t\tИностранные языки в Высшей школе экономики\n",
      "\t\t\t\t\t\t\t</a>\n",
      "<a href=\"https://fdp.hse.ru/\">\n",
      "\t\t\t\t\t\t\t\t\n",
      "\t\t\t\t\t\t\t</a>\n",
      "<a href=\"https://www.hse.ru/data/2016/09/20/1123244071/Pochemuchnik.pdf\">\n",
      "\t\t\t\t\t\t\t\tПочемучник для первокурсников\n",
      "\t\t\t\t\t\t\t</a>\n",
      "<a href=\"https://www.hse.ru/news/\">Все новости</a>\n",
      "<a href=\"https://pravo.hse.ru/school/news/190146650.html\">День открытых дверей Открытой правовой школы</a>\n",
      "<a href=\"/news/179832837.html\">&laquo;Информационные технологии и системы&raquo;</a>\n",
      "<a href=\"https://icare.hse.ru/2016/\">Ежегодная конференция по прикладной экономике iCare &ndash; 2016</a>\n",
      "<a href=\"/news/179832837.html\">&laquo;Информационные технологии и системы&raquo;</a>\n",
      "<a href=\"/news/179832837.html\">&laquo;Информационные технологии и системы&raquo;</a>\n",
      "<a href=\"https://icare.hse.ru/2016/\">Ежегодная конференция по прикладной экономике iCare &ndash; 2016</a>\n",
      "<a href=\"https://culture.hse.ru/announcements/177524754.html\">&laquo;Дни этнографического кино&raquo;</a>\n",
      "<a href=\"https://aspirantura.hse.ru/defence/announcements/186783821.html\">&laquo;Влияние результатов школьного образования на формирование цен на рынке жилой недвижимости в мегаполисе&raquo;</a>\n",
      "<a href=\"https://aspirantura.hse.ru/defence/announcements/186808908.html\">&laquo;Качество вуза, успеваемость и занятость во время обучения как детерминанты заработной платы выпускников вузов на начальном этапе карьеры&raquo;</a>\n",
      "<a href=\"https://ioe.hse.ru/announcements/191513973.html\">&laquo;Актуальные исследования и разработки в области образования&raquo;</a>\n",
      "<a href=\"https://ecsoclab.hse.ru/announcements/190075146.html\">&laquo;Инновации, инициируемые пользователями. Теперь и в России&raquo;</a>\n",
      "<a href=\"/news/190724497.html\">по финансовой грамотности Prospect в Вышке</a>\n",
      "<a href=\"/news/191499877.html\">Хор НИУ ВШЭ &laquo;Force Мажор&raquo; ищет таланты</a>\n",
      "<a href=\"http://www.re.hse.ru/ru/main/goodpage/269/\">&laquo;Новеллы государственной регистрации сделок с недвижимостью в 2017 г.&raquo;</a>\n",
      "<a href=\"/news/179832837.html\">&laquo;Информационные технологии и системы&raquo;</a>\n",
      "<a href=\"http://www.re.hse.ru/ru/main/goodpage/266/\">&laquo;Итоги первого полугодия 2016 года на рынке загородной недвижимости: Анализ спроса и предложения. Мнение аналитиков и практиков&raquo;</a>\n",
      "<a href=\"https://culture.hse.ru/announcements/177524754.html\">&laquo;Дни этнографического кино&raquo;</a>\n",
      "<a href=\"/news/191206727.html\">Вечер памяти Павла Шеремета</a>\n",
      "<a href=\"http://hsbi.hse.ru/events/open_days/den-otkrytykh-dverey-po-programmam-igrovoy-industrii-28-09-2016/#.V9ZvfvmLSUk\">профессиональной переподготовки &laquo;Менеджмент игровых интернет-проектов&raquo;</a>\n",
      "<a href=\"http://hsbi.hse.ru/events/open_days/den-otkrytykh-dverey-programm-menedzhment-v-sfere-eb-i-imk-28-09-2016/#.V9Zve_mLSUk\">&laquo;Менеджмент в сфере электронного бизнеса и интернет-проектов&raquo; и &laquo;Интернет-маркетинговые коммуникации&raquo;</a>\n",
      "<a href=\"https://mclog.hse.ru/announcements/190034797.html\">Международного центра подготовки кадров в области логистики НИУ ВШЭ</a>\n",
      "<a href=\"https://issek.hse.ru/announcements/185560795.html\">&laquo;Водный форум БРИКС&raquo;</a>\n",
      "<a href=\"https://philology.hse.ru/announcements/191073923.html\">&laquo;Мировая литература как советский культурный проект&raquo;</a>\n",
      "<a href=\"/news/179832837.html\">&laquo;Информационные технологии и системы&raquo;</a>\n",
      "<a href=\"https://culture.hse.ru/announcements/177524754.html\">&laquo;Дни этнографического кино&raquo;</a>\n",
      "<a href=\"http://moda.hse.ru/novosti-tsentra_20160822161027.html\">программы повышения квалификации &laquo;Визуальный мерчандайзинг в индустрии моды&raquo;</a>\n",
      "<a href=\"http://ikm.hse.ru/meropriyatiya/den-otkrytyh-dverey-29-sentyabrya\">программ дополнительного образования Института коммуникационного менеджмента</a>\n",
      "<a href=\"/news/179832837.html\">&laquo;Информационные технологии и системы&raquo;</a>\n",
      "<a href=\"https://issek.hse.ru/announcements/185560795.html\">&laquo;Водный форум БРИКС&raquo;</a>\n",
      "<a href=\"https://philology.hse.ru/announcements/191073923.html\">&laquo;Мировая литература как советский культурный проект&raquo;</a>\n",
      "<a href=\"https://culture.hse.ru/announcements/177524754.html\">&laquo;Дни этнографического кино&raquo;</a>\n",
      "<a href=\"https://philology.hse.ru/announcements/191073923.html\">&laquo;Мировая литература как советский культурный проект&raquo;</a>\n",
      "<a href=\"https://culture.hse.ru/announcements/177524754.html\">&laquo;Дни этнографического кино&raquo;</a>\n",
      "<a href=\"https://icef.hse.ru/announcements/190212629.html\">бакалаврской программы двух дипломов по экономике МИЭФ НИУ ВШЭ и Лондонского университета</a>\n",
      "<a href=\"https://culture.hse.ru/announcements/177524754.html\">&laquo;Дни этнографического кино&raquo;</a>\n",
      "<a href=\"http://design.hse.ru/news/552\">&laquo;Введение в историю искусства&raquo;</a>\n",
      "<a href=\"https://pm.hse.ru/announcements/190724706.html\">дополнительного профессионального образования Высшей школы управления проектами</a>\n",
      "<a href=\"https://aspirantura.hse.ru/defence/announcements/186662803.html\">&laquo;Парадигмальный подход к исследованию интеллектуальных прав&raquo;</a>\n",
      "<a href=\"https://aspirantura.hse.ru/defence/announcements/188558812.html\">&laquo;Формирование системы логистического сервиса оптовых компаний&raquo;</a>\n",
      "<a href=\"https://www.hse.ru/lectorian/announcements/191409339.html\">&laquo;Университет, открытый городу: Лекции молодых ученых Вышки в Культурном центре ЗИЛ&raquo;</a>\n",
      "<a href=\"https://cinst.hse.ru/Banking\">&laquo;Банки на развивающихся рынках: вызовы и возможности&raquo;</a>\n",
      "<a href=\"https://aspirantura.hse.ru/defence/announcements/186157165.html\">&laquo;Теоретико-методологическая концептуализация топонимических практик (на примере Москвы и Санкт-Петербурга)&raquo;</a>\n",
      "<a href=\"https://aspirantura.hse.ru/defence/announcements/187261051.html\">&laquo;Этнические границы в местных сообществах: теоретико-методологический анализ&raquo;</a>\n",
      "<a href=\"https://binst.hse.ru/announcements/144185251.html\">Мастер делового администрирования: МВА &laquo;Финансы и банки&raquo; и МВА &laquo;Управление инвестициями&raquo; (CFA Program Partner)</a>\n",
      "<a href=\"https://aspirantura.hse.ru/defence/announcements/186782754.html\">&laquo;Предельный опыт в гетерологии Жоржа Батая&raquo;</a>\n",
      "<a href=\"https://aspirantura.hse.ru/defence/announcements/187658804.html\">&laquo;Оценка распределения влияния с учетом предпочтений по созданию коалиций для выборных органов принятия коллективных решений&raquo;</a>\n",
      "<a href=\"https://elearning.hse.ru/announcements/191202132.html\">&laquo;Blended learning: проектируем, внедряем, управляем&raquo;</a>\n",
      "<a href=\"https://www.hse.ru/kru/\">&laquo;Кадровые резервы университетов&raquo;</a>\n",
      "<a href=\"https://elearning.hse.ru/announcements/191202132.html\">&laquo;Blended learning: проектируем, внедряем, управляем&raquo;</a>\n",
      "<a href=\"/news/187537295.html\">&laquo;Корпусные технологии. Digital Humanities и современное знание&raquo;</a>\n",
      "<a href=\"https://elearning.hse.ru/announcements/191202132.html\">&laquo;Blended learning: проектируем, внедряем, управляем&raquo;</a>\n",
      "<a href=\"https://www.hse.ru/kru/\">&laquo;Кадровые резервы университетов&raquo;</a>\n",
      "<a href=\"https://elearning.hse.ru/announcements/191202132.html\">&laquo;Blended learning: проектируем, внедряем, управляем&raquo;</a>\n",
      "<a href=\"/news/187537295.html\">&laquo;Корпусные технологии. Digital Humanities и современное знание&raquo;</a>\n",
      "<a href=\"/news/187537295.html\">&laquo;Корпусные технологии. Digital Humanities и современное знание&raquo;</a>\n",
      "<a href=\"https://aspirantura.hse.ru/defence/announcements/188560174.html\">&laquo;Методы оценки и направления совершенствования бизнес-процессов в частных медицинских центрах&raquo;</a>\n",
      "<a href=\"https://aspirantura.hse.ru/defence/announcements/186662943.html\">&laquo;Уголовно-правовые запреты в сфере корпоративных отношений: социальная обусловленность и законодательное конструирование&raquo;</a>\n",
      "<a href=\"https://www.hse.ru/lectorian/announcements/191411323.html\">&laquo;Университет, открытый городу: Лекции молодых ученых Вышки в Культурном центре ЗИЛ&raquo;</a>\n",
      "<a href=\"https://aspirantura.hse.ru/defence/announcements/186157211.html\">&laquo;Социально-организационный подход в исследованиях феномена стресса на работе (на примере ИТ-фирм России и Франции)&raquo;</a>\n",
      "<a href=\"https://aspirantura.hse.ru/defence/announcements/187602420.html\">&laquo;Частные межпоколенные трансферты в различных типах домохозяйств&raquo;</a>\n",
      "<a href=\"https://pravo.hse.ru/infolaw/announcements/190063071.html\">&laquo;Право в цифровую эпоху&raquo;</a>\n",
      "<a href=\"https://pravo.hse.ru/infolaw/announcements/190063071.html\">&laquo;Право в цифровую эпоху&raquo;</a>\n",
      "<a href=\"https://aspirantura.hse.ru/defence/announcements/188686001.html\">&laquo;Влияние политической элиты на трансформации государственных институтов современной России&raquo;</a>\n",
      "<a href=\"https://aspirantura.hse.ru/defence/announcements/188686101.html\">&laquo;Факторы осуществления коррупционных сделок в посткоммунистических государствах Европы&raquo;</a>\n",
      "<a href=\"https://perm.hse.ru/announcements/188930202.html\">&laquo;Public Private Interaction: Design and Deliberation&raquo;</a>\n",
      "<a href=\"https://aspirantura.hse.ru/defence/announcements/186784063.html\">&laquo;Финансовая репрессия в форме нерыночного размещения государственного долга&raquo;</a>\n",
      "<a href=\"https://www.hse.ru/lectorian/announcements/191423203.html\">&laquo;Университет, открытый городу: лекционные четверги в музеях Москвы&raquo;</a>\n",
      "<a href=\"https://aspirantura.hse.ru/defence/announcements/186307595.html\">&laquo;Формирование учения о договоре в правовой науке Западной Европы (XII&ndash;XVI вв.)&raquo;</a>\n",
      "<a href=\"https://www.hse.ru/lectorian/announcements/191413831.html?utm_source=announcement&amp;utm_medium=main&amp;utm_campaign=lectorian_2016\">&laquo;Университет, открытый городу: Лекции молодых ученых Вышки в Культурном центре ЗИЛ&raquo;</a>\n",
      "<a href=\"https://economics.hse.ru/announcements/190451498.html\">бакалаврских образовательных программ факультета экономических наук</a>\n",
      "<a href=\"https://ioe.hse.ru/announcements/186665621.html\">&laquo;Л.С. Выготский и современное детство&raquo;</a>\n",
      "<a href=\"https://ioe.hse.ru/announcements/186665621.html\">&laquo;Л.С. Выготский и современное детство&raquo;</a>\n",
      "<a href=\"https://www.hse.ru/lectorian/announcements/191416659.html?utm_source=announcement&amp;utm_medium=main&amp;utm_campaign=lectorian_2016\">&laquo;Университет, открытый городу: Лекции молодых ученых Вышки в Культурном центре ЗИЛ&raquo;</a>\n",
      "<a href=\"https://www.hse.ru/lectorian/announcements/191514413.html?utm_source=announcement&amp;utm_medium=main&amp;utm_campaign=lectorian_2016\">&laquo;Университет, открытый городу: Лекции молодых ученых Вышки в Культурном центре ЗИЛ&raquo;</a>\n",
      "<a href=\"/news/186991819.html\">XVIII Апрельская международная научная конференция &laquo;Модернизация экономики и общества&raquo;</a>\n",
      "<a href=\"/news/186991819.html\">XVIII Апрельская международная научная конференция &laquo;Модернизация экономики и общества&raquo;</a>\n",
      "<a href=\"/news/186991819.html\">XVIII Апрельская международная научная конференция &laquo;Модернизация экономики и общества&raquo;</a>\n",
      "<a href=\"/news/186991819.html\">XVIII Апрельская международная научная конференция &laquo;Модернизация экономики и общества&raquo;</a>\n",
      "<a href=\"https://irsup.hse.ru/smartcityschool/\">&laquo;Город и бизнес: согласованное управление в эпоху технологий&raquo;</a>\n",
      "<a href=\"https://irsup.hse.ru/smartcityschool/\">&laquo;Город и бизнес: согласованное управление в эпоху технологий&raquo;</a>\n",
      "<a href=\"https://irsup.hse.ru/smartcityschool/\">&laquo;Город и бизнес: согласованное управление в эпоху технологий&raquo;</a>\n",
      "<a href=\"https://irsup.hse.ru/smartcityschool/\">&laquo;Город и бизнес: согласованное управление в эпоху технологий&raquo;</a>\n",
      "<a href=\"https://irsup.hse.ru/smartcityschool/\">&laquo;Город и бизнес: согласованное управление в эпоху технологий&raquo;</a>\n",
      "<a href=\"https://irsup.hse.ru/smartcityschool/\">&laquo;Город и бизнес: согласованное управление в эпоху технологий&raquo;</a>\n",
      "<a href=\"https://irsup.hse.ru/smartcityschool/\">&laquo;Город и бизнес: согласованное управление в эпоху технологий&raquo;</a>\n",
      "<a href=\"https://irsup.hse.ru/smartcityschool/\">&laquo;Город и бизнес: согласованное управление в эпоху технологий&raquo;</a>\n",
      "<a href=\"https://irsup.hse.ru/smartcityschool/\">&laquo;Город и бизнес: согласованное управление в эпоху технологий&raquo;</a>\n",
      "<a href=\"https://irsup.hse.ru/smartcityschool/\">&laquo;Город и бизнес: согласованное управление в эпоху технологий&raquo;</a>\n",
      "<a href=\"https://irsup.hse.ru/smartcityschool/\">&laquo;Город и бизнес: согласованное управление в эпоху технологий&raquo;</a>\n",
      "<a href=\"https://irsup.hse.ru/smartcityschool/\">&laquo;Город и бизнес: согласованное управление в эпоху технологий&raquo;</a>\n",
      "<a href=\"https://irsup.hse.ru/smartcityschool/\">&laquo;Город и бизнес: согласованное управление в эпоху технологий&raquo;</a>\n",
      "<a href=\"https://irsup.hse.ru/smartcityschool/\">&laquo;Город и бизнес: согласованное управление в эпоху технологий&raquo;</a>\n",
      "<a href=\"https://irsup.hse.ru/smartcityschool/\">&laquo;Город и бизнес: согласованное управление в эпоху технологий&raquo;</a>\n",
      "<a href=\"https://irsup.hse.ru/smartcityschool/\">&laquo;Город и бизнес: согласованное управление в эпоху технологий&raquo;</a>\n",
      "<a href=\"https://irsup.hse.ru/smartcityschool/\">&laquo;Город и бизнес: согласованное управление в эпоху технологий&raquo;</a>\n",
      "<a href=\"https://irsup.hse.ru/smartcityschool/\">&laquo;Город и бизнес: согласованное управление в эпоху технологий&raquo;</a>\n",
      "<a href=\"https://irsup.hse.ru/smartcityschool/\">&laquo;Город и бизнес: согласованное управление в эпоху технологий&raquo;</a>\n",
      "<a href=\"https://irsup.hse.ru/smartcityschool/\">&laquo;Город и бизнес: согласованное управление в эпоху технологий&raquo;</a>\n",
      "<a href=\"https://irsup.hse.ru/smartcityschool/\">&laquo;Город и бизнес: согласованное управление в эпоху технологий&raquo;</a>\n",
      "<a href=\"https://irsup.hse.ru/smartcityschool/\">&laquo;Город и бизнес: согласованное управление в эпоху технологий&raquo;</a>\n",
      "<a href=\"https://irsup.hse.ru/smartcityschool/\">&laquo;Город и бизнес: согласованное управление в эпоху технологий&raquo;</a>\n",
      "<a href=\"https://irsup.hse.ru/smartcityschool/\">&laquo;Город и бизнес: согласованное управление в эпоху технологий&raquo;</a>\n",
      "<a href=\"https://irsup.hse.ru/smartcityschool/\">&laquo;Город и бизнес: согласованное управление в эпоху технологий&raquo;</a>\n",
      "<a href=\"https://irsup.hse.ru/smartcityschool/\">&laquo;Город и бизнес: согласованное управление в эпоху технологий&raquo;</a>\n",
      "<a href=\"https://irsup.hse.ru/smartcityschool/\">&laquo;Город и бизнес: согласованное управление в эпоху технологий&raquo;</a>\n",
      "<a href=\"https://irsup.hse.ru/smartcityschool/\">&laquo;Город и бизнес: согласованное управление в эпоху технологий&raquo;</a>\n",
      "<a href=\"https://irsup.hse.ru/smartcityschool/\">&laquo;Город и бизнес: согласованное управление в эпоху технологий&raquo;</a>\n",
      "<a href=\"https://irsup.hse.ru/smartcityschool/\">&laquo;Город и бизнес: согласованное управление в эпоху технологий&raquo;</a>\n",
      "<a href=\"https://www.hse.ru/news/announcements/\">Все мероприятия</a>\n",
      "<a href=\"https://www.hse.ru/contacts.html\">Главный корпус</a>\n",
      "<a href=\"mailto:hse@hse.ru\">hse@hse.ru</a>\n",
      "<a href=\"http://www.hse.ru/buildinghse\">Карта зданий</a>\n",
      "<a href=\"http://ba.hse.ru/\">Приемная комиссия</a>\n",
      "<a href=\"mailto:abitur@hse.ru\">abitur@hse.ru</a>\n",
      "<a href=\"http://www.hse.ru/pr/press\">Пресс-служба ВШЭ</a>\n",
      "<a href=\"mailto:press@hse.ru\">press@hse.ru</a>\n",
      "<a href=\"http://family.hse.ru/\">ВышкаFamily</a>\n",
      "<a href=\"http://forum.hse.ru/newforum/index.php?t=thread&amp;frm_id=178&amp;S=6ddd300093d313d5d92cbdd6adc240d9\">О поступлении в Лицей</a>\n",
      "<a href=\"http://forum.hse.ru/newforum/index.php?t=thread&amp;frm_id=87&amp;S=e36a456f132336af8c64dd2943040f5c\">О поступлении в НИУ ВШЭ</a>\n",
      "<a href=\"http://forum.hse.ru/newforum/index.php?t=thread&amp;frm_id=152&amp;S=e36a456f132336af8c64dd2943040f5c\">Иностранным абитуриентам</a>\n",
      "<a href=\"http://forum.hse.ru/newforum/index.php?t=thread&amp;frm_id=149&amp;S=e36a456f132336af8c64dd2943040f5c\">Участникам олимпиад&nbsp;НИУ ВШЭ</a>\n",
      "<a href=\"http://forum.hse.ru/newforum/index.php?t=thread&amp;frm_id=113&amp;S=6f4d8062c8b9c57bac9c50469802836f\">О поступлении в аспирантуру</a>\n",
      "<a href=\"http://forum.hse.ru/newforum/index.php?t=thread&amp;frm_id=134&amp;S=6f4d8062c8b9c57bac9c50469802836f\">О поступлении на программы ДПО</a>\n",
      "<a href=\"https://www.hse.ru/contacts.html\">Адреса и контакты</a>\n",
      "<a href=\"https://www.hse.ru/copyright\">Условия использования материалов</a>\n",
      "<a href=\"http://www.hse.ru/sitemap.html\">Карта сайта</a>\n",
      "<a href=\"http://design.hse.ru/lab\">Лабораторией дизайна НИУ ВШЭ</a>\n"
     ]
    }
   ],
   "source": [
    "links = re.findall('<a href=\"[^\"]+\">[^<]*</a>', text) # найдем все ссылки на данной странице\n",
    "# Как можно видеть внутри href может быть любой симол кроме закрывающего \" и там должно находиться хоть что-то\n",
    "# Содержимое же тега не должно содержать закрывающего  < и может быть впринципе пустым\n",
    "print(*links, sep=\"\\n\")"
   ]
  },
  {
   "cell_type": "code",
   "execution_count": 62,
   "metadata": {
    "collapsed": false
   },
   "outputs": [
    {
     "name": "stdout",
     "output_type": "stream",
     "text": [
      "Новости: #news\n",
      "Вышка 360°: #abitur\n",
      "Мероприятия: #events\n",
      "Вокруг Вышки: #around_hse\n",
      "Контакты: #contacts\n",
      "Карта сайта: #sitemap\n",
      "Программа развития: https://strategy.hse.ru/\n",
      "Факультеты и институты: https://www.hse.ru/education/faculty/\n",
      "Преподаватели и сотрудники: https://www.hse.ru/org/persons/\n",
      "Выпускники: https://alumni.hse.ru/\n",
      "Спасибо, Вышка: https://spasibo.hse.ru/\n",
      "Особенности учебного процесса: https://www.hse.ru/studyspravka/kontr\n",
      "Выбор траектории обучения: https://electives.hse.ru/\n",
      "Образовательные стандарты: https://www.hse.ru/standards/\n",
      "Оценка качества образования: https://www.hse.ru/deprog/quality_edu\n",
      "Бакалавриат: https://www.hse.ru/education/\n",
      "Магистратура: https://www.hse.ru/education/#magister\n",
      "Аспирантские школы: https://aspirantura.hse.ru/asp_school\n",
      "Второе высшее, дополнительное и бизнес-образование: https://busedu.hse.ru/\n",
      "Летние школы: https://www.hse.ru/sumschool/\n",
      "Дистанционные курсы для школьников: https://fdp.hse.ru/ischool\n",
      "Публикации: https://publications.hse.ru/\n",
      "Журналы ВШЭ: https://www.hse.ru/science/journals\n",
      "Научные мероприятия: https://www.hse.ru/news/announcements/scientific_actions/\n",
      "Международные лаборатории: https://www.hse.ru/ru/interlabs/\n",
      "Конкурсы и гранты: https://www.hse.ru/science/hsegrants\n",
      "Академическое развитие: https://academics.hse.ru/\n",
      "Мониторинги: http://www.hse.ru/monitoring/\n",
      "Трендлеттеры: http://issek.hse.ru/trendletter/\n",
      "Карта кластеров: http://map.cluster.hse.ru/\n",
      "Цифры и факты: https://www.hse.ru/figures/\n",
      "НИУ ВШЭ в рейтингах: http://strategy.hse.ru/rating\n",
      "Оргструктура: https://www.hse.ru/orgstructure/\n",
      "Корпуса и общежития: https://www.hse.ru/buildinghse\n",
      "Единая приемная: https://ep.hse.ru/\n",
      "Фонд целевого капитала: https://endowment.hse.ru/\n",
      "Поступление: https://www.hse.ru/abiturient\n",
      "Школьникам: http://shkolnikam.hse.ru/\n",
      "Олимпиады: http://olymp.hse.ru/\n",
      "Бакалавриат: http://ba.hse.ru\n",
      "Магистратура: http://ma.hse.ru\n",
      "Аспирантура: http://aspirantura.hse.ru/\n",
      "Дополнительное и бизнес-образование: http://busedu.hse.ru\n",
      "\n",
      "\t\t\t\t\t\t\t\tМониторинг качества приема в российские вузы\n",
      "\t\t\t\t\t\t\t: https://www.hse.ru/ege/rating/2016/68395231/gos/?rlist=&uplist=&vuz-abiturients-budget-order=ge&vuz-abiturients-budget-val=300\n",
      "\n",
      "\t\t\t\t\t\t\t\tИностранные языки в Высшей школе экономики\n",
      "\t\t\t\t\t\t\t: https://www.hse.ru/hselang/\n",
      "\n",
      "\t\t\t\t\t\t\t\t\n",
      "\t\t\t\t\t\t\t: https://fdp.hse.ru/\n",
      "\n",
      "\t\t\t\t\t\t\t\tПочемучник для первокурсников\n",
      "\t\t\t\t\t\t\t: https://www.hse.ru/data/2016/09/20/1123244071/Pochemuchnik.pdf\n",
      "Все новости: https://www.hse.ru/news/\n",
      "День открытых дверей Открытой правовой школы: https://pravo.hse.ru/school/news/190146650.html\n",
      "&laquo;Информационные технологии и системы&raquo;: /news/179832837.html\n",
      "Ежегодная конференция по прикладной экономике iCare &ndash; 2016: https://icare.hse.ru/2016/\n",
      "&laquo;Информационные технологии и системы&raquo;: /news/179832837.html\n",
      "&laquo;Информационные технологии и системы&raquo;: /news/179832837.html\n",
      "Ежегодная конференция по прикладной экономике iCare &ndash; 2016: https://icare.hse.ru/2016/\n",
      "&laquo;Дни этнографического кино&raquo;: https://culture.hse.ru/announcements/177524754.html\n",
      "&laquo;Влияние результатов школьного образования на формирование цен на рынке жилой недвижимости в мегаполисе&raquo;: https://aspirantura.hse.ru/defence/announcements/186783821.html\n",
      "&laquo;Качество вуза, успеваемость и занятость во время обучения как детерминанты заработной платы выпускников вузов на начальном этапе карьеры&raquo;: https://aspirantura.hse.ru/defence/announcements/186808908.html\n",
      "&laquo;Актуальные исследования и разработки в области образования&raquo;: https://ioe.hse.ru/announcements/191513973.html\n",
      "&laquo;Инновации, инициируемые пользователями. Теперь и в России&raquo;: https://ecsoclab.hse.ru/announcements/190075146.html\n",
      "по финансовой грамотности Prospect в Вышке: /news/190724497.html\n",
      "Хор НИУ ВШЭ &laquo;Force Мажор&raquo; ищет таланты: /news/191499877.html\n",
      "&laquo;Новеллы государственной регистрации сделок с недвижимостью в 2017 г.&raquo;: http://www.re.hse.ru/ru/main/goodpage/269/\n",
      "&laquo;Информационные технологии и системы&raquo;: /news/179832837.html\n",
      "&laquo;Итоги первого полугодия 2016 года на рынке загородной недвижимости: Анализ спроса и предложения. Мнение аналитиков и практиков&raquo;: http://www.re.hse.ru/ru/main/goodpage/266/\n",
      "&laquo;Дни этнографического кино&raquo;: https://culture.hse.ru/announcements/177524754.html\n",
      "Вечер памяти Павла Шеремета: /news/191206727.html\n",
      "профессиональной переподготовки &laquo;Менеджмент игровых интернет-проектов&raquo;: http://hsbi.hse.ru/events/open_days/den-otkrytykh-dverey-po-programmam-igrovoy-industrii-28-09-2016/#.V9ZvfvmLSUk\n",
      "&laquo;Менеджмент в сфере электронного бизнеса и интернет-проектов&raquo; и &laquo;Интернет-маркетинговые коммуникации&raquo;: http://hsbi.hse.ru/events/open_days/den-otkrytykh-dverey-programm-menedzhment-v-sfere-eb-i-imk-28-09-2016/#.V9Zve_mLSUk\n",
      "Международного центра подготовки кадров в области логистики НИУ ВШЭ: https://mclog.hse.ru/announcements/190034797.html\n",
      "&laquo;Водный форум БРИКС&raquo;: https://issek.hse.ru/announcements/185560795.html\n",
      "&laquo;Мировая литература как советский культурный проект&raquo;: https://philology.hse.ru/announcements/191073923.html\n",
      "&laquo;Информационные технологии и системы&raquo;: /news/179832837.html\n",
      "&laquo;Дни этнографического кино&raquo;: https://culture.hse.ru/announcements/177524754.html\n",
      "программы повышения квалификации &laquo;Визуальный мерчандайзинг в индустрии моды&raquo;: http://moda.hse.ru/novosti-tsentra_20160822161027.html\n",
      "программ дополнительного образования Института коммуникационного менеджмента: http://ikm.hse.ru/meropriyatiya/den-otkrytyh-dverey-29-sentyabrya\n",
      "&laquo;Информационные технологии и системы&raquo;: /news/179832837.html\n",
      "&laquo;Водный форум БРИКС&raquo;: https://issek.hse.ru/announcements/185560795.html\n",
      "&laquo;Мировая литература как советский культурный проект&raquo;: https://philology.hse.ru/announcements/191073923.html\n",
      "&laquo;Дни этнографического кино&raquo;: https://culture.hse.ru/announcements/177524754.html\n",
      "&laquo;Мировая литература как советский культурный проект&raquo;: https://philology.hse.ru/announcements/191073923.html\n",
      "&laquo;Дни этнографического кино&raquo;: https://culture.hse.ru/announcements/177524754.html\n",
      "бакалаврской программы двух дипломов по экономике МИЭФ НИУ ВШЭ и Лондонского университета: https://icef.hse.ru/announcements/190212629.html\n",
      "&laquo;Дни этнографического кино&raquo;: https://culture.hse.ru/announcements/177524754.html\n",
      "&laquo;Введение в историю искусства&raquo;: http://design.hse.ru/news/552\n",
      "дополнительного профессионального образования Высшей школы управления проектами: https://pm.hse.ru/announcements/190724706.html\n",
      "&laquo;Парадигмальный подход к исследованию интеллектуальных прав&raquo;: https://aspirantura.hse.ru/defence/announcements/186662803.html\n",
      "&laquo;Формирование системы логистического сервиса оптовых компаний&raquo;: https://aspirantura.hse.ru/defence/announcements/188558812.html\n",
      "&laquo;Университет, открытый городу: Лекции молодых ученых Вышки в Культурном центре ЗИЛ&raquo;: https://www.hse.ru/lectorian/announcements/191409339.html\n",
      "&laquo;Банки на развивающихся рынках: вызовы и возможности&raquo;: https://cinst.hse.ru/Banking\n",
      "&laquo;Теоретико-методологическая концептуализация топонимических практик (на примере Москвы и Санкт-Петербурга)&raquo;: https://aspirantura.hse.ru/defence/announcements/186157165.html\n",
      "&laquo;Этнические границы в местных сообществах: теоретико-методологический анализ&raquo;: https://aspirantura.hse.ru/defence/announcements/187261051.html\n",
      "Мастер делового администрирования: МВА &laquo;Финансы и банки&raquo; и МВА &laquo;Управление инвестициями&raquo; (CFA Program Partner): https://binst.hse.ru/announcements/144185251.html\n",
      "&laquo;Предельный опыт в гетерологии Жоржа Батая&raquo;: https://aspirantura.hse.ru/defence/announcements/186782754.html\n",
      "&laquo;Оценка распределения влияния с учетом предпочтений по созданию коалиций для выборных органов принятия коллективных решений&raquo;: https://aspirantura.hse.ru/defence/announcements/187658804.html\n",
      "&laquo;Blended learning: проектируем, внедряем, управляем&raquo;: https://elearning.hse.ru/announcements/191202132.html\n",
      "&laquo;Кадровые резервы университетов&raquo;: https://www.hse.ru/kru/\n",
      "&laquo;Blended learning: проектируем, внедряем, управляем&raquo;: https://elearning.hse.ru/announcements/191202132.html\n",
      "&laquo;Корпусные технологии. Digital Humanities и современное знание&raquo;: /news/187537295.html\n",
      "&laquo;Blended learning: проектируем, внедряем, управляем&raquo;: https://elearning.hse.ru/announcements/191202132.html\n",
      "&laquo;Кадровые резервы университетов&raquo;: https://www.hse.ru/kru/\n",
      "&laquo;Blended learning: проектируем, внедряем, управляем&raquo;: https://elearning.hse.ru/announcements/191202132.html\n",
      "&laquo;Корпусные технологии. Digital Humanities и современное знание&raquo;: /news/187537295.html\n",
      "&laquo;Корпусные технологии. Digital Humanities и современное знание&raquo;: /news/187537295.html\n",
      "&laquo;Методы оценки и направления совершенствования бизнес-процессов в частных медицинских центрах&raquo;: https://aspirantura.hse.ru/defence/announcements/188560174.html\n",
      "&laquo;Уголовно-правовые запреты в сфере корпоративных отношений: социальная обусловленность и законодательное конструирование&raquo;: https://aspirantura.hse.ru/defence/announcements/186662943.html\n",
      "&laquo;Университет, открытый городу: Лекции молодых ученых Вышки в Культурном центре ЗИЛ&raquo;: https://www.hse.ru/lectorian/announcements/191411323.html\n",
      "&laquo;Социально-организационный подход в исследованиях феномена стресса на работе (на примере ИТ-фирм России и Франции)&raquo;: https://aspirantura.hse.ru/defence/announcements/186157211.html\n",
      "&laquo;Частные межпоколенные трансферты в различных типах домохозяйств&raquo;: https://aspirantura.hse.ru/defence/announcements/187602420.html\n",
      "&laquo;Право в цифровую эпоху&raquo;: https://pravo.hse.ru/infolaw/announcements/190063071.html\n",
      "&laquo;Право в цифровую эпоху&raquo;: https://pravo.hse.ru/infolaw/announcements/190063071.html\n",
      "&laquo;Влияние политической элиты на трансформации государственных институтов современной России&raquo;: https://aspirantura.hse.ru/defence/announcements/188686001.html\n",
      "&laquo;Факторы осуществления коррупционных сделок в посткоммунистических государствах Европы&raquo;: https://aspirantura.hse.ru/defence/announcements/188686101.html\n",
      "&laquo;Public Private Interaction: Design and Deliberation&raquo;: https://perm.hse.ru/announcements/188930202.html\n",
      "&laquo;Финансовая репрессия в форме нерыночного размещения государственного долга&raquo;: https://aspirantura.hse.ru/defence/announcements/186784063.html\n",
      "&laquo;Университет, открытый городу: лекционные четверги в музеях Москвы&raquo;: https://www.hse.ru/lectorian/announcements/191423203.html\n",
      "&laquo;Формирование учения о договоре в правовой науке Западной Европы (XII&ndash;XVI вв.)&raquo;: https://aspirantura.hse.ru/defence/announcements/186307595.html\n",
      "&laquo;Университет, открытый городу: Лекции молодых ученых Вышки в Культурном центре ЗИЛ&raquo;: https://www.hse.ru/lectorian/announcements/191413831.html?utm_source=announcement&amp;utm_medium=main&amp;utm_campaign=lectorian_2016\n",
      "бакалаврских образовательных программ факультета экономических наук: https://economics.hse.ru/announcements/190451498.html\n",
      "&laquo;Л.С. Выготский и современное детство&raquo;: https://ioe.hse.ru/announcements/186665621.html\n",
      "&laquo;Л.С. Выготский и современное детство&raquo;: https://ioe.hse.ru/announcements/186665621.html\n",
      "&laquo;Университет, открытый городу: Лекции молодых ученых Вышки в Культурном центре ЗИЛ&raquo;: https://www.hse.ru/lectorian/announcements/191416659.html?utm_source=announcement&amp;utm_medium=main&amp;utm_campaign=lectorian_2016\n",
      "&laquo;Университет, открытый городу: Лекции молодых ученых Вышки в Культурном центре ЗИЛ&raquo;: https://www.hse.ru/lectorian/announcements/191514413.html?utm_source=announcement&amp;utm_medium=main&amp;utm_campaign=lectorian_2016\n",
      "XVIII Апрельская международная научная конференция &laquo;Модернизация экономики и общества&raquo;: /news/186991819.html\n",
      "XVIII Апрельская международная научная конференция &laquo;Модернизация экономики и общества&raquo;: /news/186991819.html\n",
      "XVIII Апрельская международная научная конференция &laquo;Модернизация экономики и общества&raquo;: /news/186991819.html\n",
      "XVIII Апрельская международная научная конференция &laquo;Модернизация экономики и общества&raquo;: /news/186991819.html\n",
      "&laquo;Город и бизнес: согласованное управление в эпоху технологий&raquo;: https://irsup.hse.ru/smartcityschool/\n",
      "&laquo;Город и бизнес: согласованное управление в эпоху технологий&raquo;: https://irsup.hse.ru/smartcityschool/\n",
      "&laquo;Город и бизнес: согласованное управление в эпоху технологий&raquo;: https://irsup.hse.ru/smartcityschool/\n",
      "&laquo;Город и бизнес: согласованное управление в эпоху технологий&raquo;: https://irsup.hse.ru/smartcityschool/\n",
      "&laquo;Город и бизнес: согласованное управление в эпоху технологий&raquo;: https://irsup.hse.ru/smartcityschool/\n",
      "&laquo;Город и бизнес: согласованное управление в эпоху технологий&raquo;: https://irsup.hse.ru/smartcityschool/\n",
      "&laquo;Город и бизнес: согласованное управление в эпоху технологий&raquo;: https://irsup.hse.ru/smartcityschool/\n",
      "&laquo;Город и бизнес: согласованное управление в эпоху технологий&raquo;: https://irsup.hse.ru/smartcityschool/\n",
      "&laquo;Город и бизнес: согласованное управление в эпоху технологий&raquo;: https://irsup.hse.ru/smartcityschool/\n",
      "&laquo;Город и бизнес: согласованное управление в эпоху технологий&raquo;: https://irsup.hse.ru/smartcityschool/\n",
      "&laquo;Город и бизнес: согласованное управление в эпоху технологий&raquo;: https://irsup.hse.ru/smartcityschool/\n",
      "&laquo;Город и бизнес: согласованное управление в эпоху технологий&raquo;: https://irsup.hse.ru/smartcityschool/\n",
      "&laquo;Город и бизнес: согласованное управление в эпоху технологий&raquo;: https://irsup.hse.ru/smartcityschool/\n",
      "&laquo;Город и бизнес: согласованное управление в эпоху технологий&raquo;: https://irsup.hse.ru/smartcityschool/\n",
      "&laquo;Город и бизнес: согласованное управление в эпоху технологий&raquo;: https://irsup.hse.ru/smartcityschool/\n",
      "&laquo;Город и бизнес: согласованное управление в эпоху технологий&raquo;: https://irsup.hse.ru/smartcityschool/\n",
      "&laquo;Город и бизнес: согласованное управление в эпоху технологий&raquo;: https://irsup.hse.ru/smartcityschool/\n",
      "&laquo;Город и бизнес: согласованное управление в эпоху технологий&raquo;: https://irsup.hse.ru/smartcityschool/\n",
      "&laquo;Город и бизнес: согласованное управление в эпоху технологий&raquo;: https://irsup.hse.ru/smartcityschool/\n",
      "&laquo;Город и бизнес: согласованное управление в эпоху технологий&raquo;: https://irsup.hse.ru/smartcityschool/\n",
      "&laquo;Город и бизнес: согласованное управление в эпоху технологий&raquo;: https://irsup.hse.ru/smartcityschool/\n",
      "&laquo;Город и бизнес: согласованное управление в эпоху технологий&raquo;: https://irsup.hse.ru/smartcityschool/\n",
      "&laquo;Город и бизнес: согласованное управление в эпоху технологий&raquo;: https://irsup.hse.ru/smartcityschool/\n",
      "&laquo;Город и бизнес: согласованное управление в эпоху технологий&raquo;: https://irsup.hse.ru/smartcityschool/\n",
      "&laquo;Город и бизнес: согласованное управление в эпоху технологий&raquo;: https://irsup.hse.ru/smartcityschool/\n",
      "&laquo;Город и бизнес: согласованное управление в эпоху технологий&raquo;: https://irsup.hse.ru/smartcityschool/\n",
      "&laquo;Город и бизнес: согласованное управление в эпоху технологий&raquo;: https://irsup.hse.ru/smartcityschool/\n",
      "&laquo;Город и бизнес: согласованное управление в эпоху технологий&raquo;: https://irsup.hse.ru/smartcityschool/\n",
      "&laquo;Город и бизнес: согласованное управление в эпоху технологий&raquo;: https://irsup.hse.ru/smartcityschool/\n",
      "&laquo;Город и бизнес: согласованное управление в эпоху технологий&raquo;: https://irsup.hse.ru/smartcityschool/\n",
      "Все мероприятия: https://www.hse.ru/news/announcements/\n",
      "Главный корпус: https://www.hse.ru/contacts.html\n",
      "hse@hse.ru: mailto:hse@hse.ru\n",
      "Карта зданий: http://www.hse.ru/buildinghse\n",
      "Приемная комиссия: http://ba.hse.ru/\n",
      "abitur@hse.ru: mailto:abitur@hse.ru\n",
      "Пресс-служба ВШЭ: http://www.hse.ru/pr/press\n",
      "press@hse.ru: mailto:press@hse.ru\n",
      "ВышкаFamily: http://family.hse.ru/\n",
      "О поступлении в Лицей: http://forum.hse.ru/newforum/index.php?t=thread&amp;frm_id=178&amp;S=6ddd300093d313d5d92cbdd6adc240d9\n",
      "О поступлении в НИУ ВШЭ: http://forum.hse.ru/newforum/index.php?t=thread&amp;frm_id=87&amp;S=e36a456f132336af8c64dd2943040f5c\n",
      "Иностранным абитуриентам: http://forum.hse.ru/newforum/index.php?t=thread&amp;frm_id=152&amp;S=e36a456f132336af8c64dd2943040f5c\n",
      "Участникам олимпиад&nbsp;НИУ ВШЭ: http://forum.hse.ru/newforum/index.php?t=thread&amp;frm_id=149&amp;S=e36a456f132336af8c64dd2943040f5c\n",
      "О поступлении в аспирантуру: http://forum.hse.ru/newforum/index.php?t=thread&amp;frm_id=113&amp;S=6f4d8062c8b9c57bac9c50469802836f\n",
      "О поступлении на программы ДПО: http://forum.hse.ru/newforum/index.php?t=thread&amp;frm_id=134&amp;S=6f4d8062c8b9c57bac9c50469802836f\n",
      "Адреса и контакты: https://www.hse.ru/contacts.html\n",
      "Условия использования материалов: https://www.hse.ru/copyright\n",
      "Карта сайта: http://www.hse.ru/sitemap.html\n",
      "Лабораторией дизайна НИУ ВШЭ: http://design.hse.ru/lab\n"
     ]
    }
   ],
   "source": [
    "# Уже неплохо, но хочется найти именно url, а не html-теги\n",
    "# Для этих целей в регулярных выражениях есть конструкция ()\n",
    "# Все, что будет помещено в круглые скобки будет отдельно скопированно из результатов поиска и сгрупированно\n",
    "# В нашем случае, заключим в круглые скобки содержимое href и содержимое тега\n",
    "links = re.findall('<a href=\"([^\"]+)\">([^<]*)</a>', text) \n",
    "for url, data in links: # первый блок () попадает в url, второй в data\n",
    "    print(\"{0}: {1}\".format(data, url))"
   ]
  },
  {
   "cell_type": "code",
   "execution_count": 72,
   "metadata": {
    "collapsed": false
   },
   "outputs": [
    {
     "name": "stdout",
     "output_type": "stream",
     "text": [
      "Программа развития: https://strategy.hse.ru/\n",
      "Факультеты и институты: https://www.hse.ru/education/faculty/\n",
      "Преподаватели и сотрудники: https://www.hse.ru/org/persons/\n",
      "Выпускники: https://alumni.hse.ru/\n",
      "Спасибо, Вышка: https://spasibo.hse.ru/\n",
      "Особенности учебного процесса: https://www.hse.ru/studyspravka/kontr\n",
      "Выбор траектории обучения: https://electives.hse.ru/\n",
      "Образовательные стандарты: https://www.hse.ru/standards/\n",
      "Оценка качества образования: https://www.hse.ru/deprog/quality_edu\n",
      "Бакалавриат: https://www.hse.ru/education/\n",
      "Аспирантские школы: https://aspirantura.hse.ru/asp_school\n",
      "Второе высшее, дополнительное и бизнес-образование: https://busedu.hse.ru/\n",
      "Летние школы: https://www.hse.ru/sumschool/\n",
      "Дистанционные курсы для школьников: https://fdp.hse.ru/ischool\n",
      "Публикации: https://publications.hse.ru/\n",
      "Журналы ВШЭ: https://www.hse.ru/science/journals\n",
      "Научные мероприятия: https://www.hse.ru/news/announcements/scientific_actions/\n",
      "Международные лаборатории: https://www.hse.ru/ru/interlabs/\n",
      "Конкурсы и гранты: https://www.hse.ru/science/hsegrants\n",
      "Академическое развитие: https://academics.hse.ru/\n",
      "Мониторинги: http://www.hse.ru/monitoring/\n",
      "Трендлеттеры: http://issek.hse.ru/trendletter/\n",
      "Карта кластеров: http://map.cluster.hse.ru/\n",
      "Цифры и факты: https://www.hse.ru/figures/\n",
      "НИУ ВШЭ в рейтингах: http://strategy.hse.ru/rating\n",
      "Оргструктура: https://www.hse.ru/orgstructure/\n",
      "Корпуса и общежития: https://www.hse.ru/buildinghse\n",
      "Единая приемная: https://ep.hse.ru/\n",
      "Фонд целевого капитала: https://endowment.hse.ru/\n",
      "Поступление: https://www.hse.ru/abiturient\n",
      "Школьникам: http://shkolnikam.hse.ru/\n",
      "Олимпиады: http://olymp.hse.ru/\n",
      "Бакалавриат: http://ba.hse.ru\n",
      "Магистратура: http://ma.hse.ru\n",
      "Аспирантура: http://aspirantura.hse.ru/\n",
      "Дополнительное и бизнес-образование: http://busedu.hse.ru\n",
      "\n",
      "\t\t\t\t\t\t\t\tМониторинг качества приема в российские вузы\n",
      "\t\t\t\t\t\t\t: https://www.hse.ru/ege/rating/2016/68395231/gos/?rlist=&uplist=&vuz-abiturients-budget-order=ge&vuz-abiturients-budget-val=300\n",
      "\n",
      "\t\t\t\t\t\t\t\tИностранные языки в Высшей школе экономики\n",
      "\t\t\t\t\t\t\t: https://www.hse.ru/hselang/\n",
      "\n",
      "\t\t\t\t\t\t\t\t\n",
      "\t\t\t\t\t\t\t: https://fdp.hse.ru/\n",
      "\n",
      "\t\t\t\t\t\t\t\tПочемучник для первокурсников\n",
      "\t\t\t\t\t\t\t: https://www.hse.ru/data/2016/09/20/1123244071/Pochemuchnik.pdf\n",
      "Все новости: https://www.hse.ru/news/\n",
      "День открытых дверей Открытой правовой школы: https://pravo.hse.ru/school/news/190146650.html\n",
      "&laquo;Информационные технологии и системы&raquo;: /news/179832837.html\n",
      "Ежегодная конференция по прикладной экономике iCare &ndash; 2016: https://icare.hse.ru/2016/\n",
      "&laquo;Информационные технологии и системы&raquo;: /news/179832837.html\n",
      "&laquo;Информационные технологии и системы&raquo;: /news/179832837.html\n",
      "Ежегодная конференция по прикладной экономике iCare &ndash; 2016: https://icare.hse.ru/2016/\n",
      "&laquo;Дни этнографического кино&raquo;: https://culture.hse.ru/announcements/177524754.html\n",
      "&laquo;Влияние результатов школьного образования на формирование цен на рынке жилой недвижимости в мегаполисе&raquo;: https://aspirantura.hse.ru/defence/announcements/186783821.html\n",
      "&laquo;Качество вуза, успеваемость и занятость во время обучения как детерминанты заработной платы выпускников вузов на начальном этапе карьеры&raquo;: https://aspirantura.hse.ru/defence/announcements/186808908.html\n",
      "&laquo;Актуальные исследования и разработки в области образования&raquo;: https://ioe.hse.ru/announcements/191513973.html\n",
      "&laquo;Инновации, инициируемые пользователями. Теперь и в России&raquo;: https://ecsoclab.hse.ru/announcements/190075146.html\n",
      "по финансовой грамотности Prospect в Вышке: /news/190724497.html\n",
      "Хор НИУ ВШЭ &laquo;Force Мажор&raquo; ищет таланты: /news/191499877.html\n",
      "&laquo;Новеллы государственной регистрации сделок с недвижимостью в 2017 г.&raquo;: http://www.re.hse.ru/ru/main/goodpage/269/\n",
      "&laquo;Информационные технологии и системы&raquo;: /news/179832837.html\n",
      "&laquo;Итоги первого полугодия 2016 года на рынке загородной недвижимости: Анализ спроса и предложения. Мнение аналитиков и практиков&raquo;: http://www.re.hse.ru/ru/main/goodpage/266/\n",
      "&laquo;Дни этнографического кино&raquo;: https://culture.hse.ru/announcements/177524754.html\n",
      "Вечер памяти Павла Шеремета: /news/191206727.html\n",
      "Международного центра подготовки кадров в области логистики НИУ ВШЭ: https://mclog.hse.ru/announcements/190034797.html\n",
      "&laquo;Водный форум БРИКС&raquo;: https://issek.hse.ru/announcements/185560795.html\n",
      "&laquo;Мировая литература как советский культурный проект&raquo;: https://philology.hse.ru/announcements/191073923.html\n",
      "&laquo;Информационные технологии и системы&raquo;: /news/179832837.html\n",
      "&laquo;Дни этнографического кино&raquo;: https://culture.hse.ru/announcements/177524754.html\n",
      "программы повышения квалификации &laquo;Визуальный мерчандайзинг в индустрии моды&raquo;: http://moda.hse.ru/novosti-tsentra_20160822161027.html\n",
      "программ дополнительного образования Института коммуникационного менеджмента: http://ikm.hse.ru/meropriyatiya/den-otkrytyh-dverey-29-sentyabrya\n",
      "&laquo;Информационные технологии и системы&raquo;: /news/179832837.html\n",
      "&laquo;Водный форум БРИКС&raquo;: https://issek.hse.ru/announcements/185560795.html\n",
      "&laquo;Мировая литература как советский культурный проект&raquo;: https://philology.hse.ru/announcements/191073923.html\n",
      "&laquo;Дни этнографического кино&raquo;: https://culture.hse.ru/announcements/177524754.html\n",
      "&laquo;Мировая литература как советский культурный проект&raquo;: https://philology.hse.ru/announcements/191073923.html\n",
      "&laquo;Дни этнографического кино&raquo;: https://culture.hse.ru/announcements/177524754.html\n",
      "бакалаврской программы двух дипломов по экономике МИЭФ НИУ ВШЭ и Лондонского университета: https://icef.hse.ru/announcements/190212629.html\n",
      "&laquo;Дни этнографического кино&raquo;: https://culture.hse.ru/announcements/177524754.html\n",
      "&laquo;Введение в историю искусства&raquo;: http://design.hse.ru/news/552\n",
      "дополнительного профессионального образования Высшей школы управления проектами: https://pm.hse.ru/announcements/190724706.html\n",
      "&laquo;Парадигмальный подход к исследованию интеллектуальных прав&raquo;: https://aspirantura.hse.ru/defence/announcements/186662803.html\n",
      "&laquo;Формирование системы логистического сервиса оптовых компаний&raquo;: https://aspirantura.hse.ru/defence/announcements/188558812.html\n",
      "&laquo;Университет, открытый городу: Лекции молодых ученых Вышки в Культурном центре ЗИЛ&raquo;: https://www.hse.ru/lectorian/announcements/191409339.html\n",
      "&laquo;Банки на развивающихся рынках: вызовы и возможности&raquo;: https://cinst.hse.ru/Banking\n",
      "&laquo;Теоретико-методологическая концептуализация топонимических практик (на примере Москвы и Санкт-Петербурга)&raquo;: https://aspirantura.hse.ru/defence/announcements/186157165.html\n",
      "&laquo;Этнические границы в местных сообществах: теоретико-методологический анализ&raquo;: https://aspirantura.hse.ru/defence/announcements/187261051.html\n",
      "Мастер делового администрирования: МВА &laquo;Финансы и банки&raquo; и МВА &laquo;Управление инвестициями&raquo; (CFA Program Partner): https://binst.hse.ru/announcements/144185251.html\n",
      "&laquo;Предельный опыт в гетерологии Жоржа Батая&raquo;: https://aspirantura.hse.ru/defence/announcements/186782754.html\n",
      "&laquo;Оценка распределения влияния с учетом предпочтений по созданию коалиций для выборных органов принятия коллективных решений&raquo;: https://aspirantura.hse.ru/defence/announcements/187658804.html\n",
      "&laquo;Blended learning: проектируем, внедряем, управляем&raquo;: https://elearning.hse.ru/announcements/191202132.html\n",
      "&laquo;Кадровые резервы университетов&raquo;: https://www.hse.ru/kru/\n",
      "&laquo;Blended learning: проектируем, внедряем, управляем&raquo;: https://elearning.hse.ru/announcements/191202132.html\n",
      "&laquo;Корпусные технологии. Digital Humanities и современное знание&raquo;: /news/187537295.html\n",
      "&laquo;Blended learning: проектируем, внедряем, управляем&raquo;: https://elearning.hse.ru/announcements/191202132.html\n",
      "&laquo;Кадровые резервы университетов&raquo;: https://www.hse.ru/kru/\n",
      "&laquo;Blended learning: проектируем, внедряем, управляем&raquo;: https://elearning.hse.ru/announcements/191202132.html\n",
      "&laquo;Корпусные технологии. Digital Humanities и современное знание&raquo;: /news/187537295.html\n",
      "&laquo;Корпусные технологии. Digital Humanities и современное знание&raquo;: /news/187537295.html\n",
      "&laquo;Методы оценки и направления совершенствования бизнес-процессов в частных медицинских центрах&raquo;: https://aspirantura.hse.ru/defence/announcements/188560174.html\n",
      "&laquo;Уголовно-правовые запреты в сфере корпоративных отношений: социальная обусловленность и законодательное конструирование&raquo;: https://aspirantura.hse.ru/defence/announcements/186662943.html\n",
      "&laquo;Университет, открытый городу: Лекции молодых ученых Вышки в Культурном центре ЗИЛ&raquo;: https://www.hse.ru/lectorian/announcements/191411323.html\n",
      "&laquo;Социально-организационный подход в исследованиях феномена стресса на работе (на примере ИТ-фирм России и Франции)&raquo;: https://aspirantura.hse.ru/defence/announcements/186157211.html\n",
      "&laquo;Частные межпоколенные трансферты в различных типах домохозяйств&raquo;: https://aspirantura.hse.ru/defence/announcements/187602420.html\n",
      "&laquo;Право в цифровую эпоху&raquo;: https://pravo.hse.ru/infolaw/announcements/190063071.html\n",
      "&laquo;Право в цифровую эпоху&raquo;: https://pravo.hse.ru/infolaw/announcements/190063071.html\n",
      "&laquo;Влияние политической элиты на трансформации государственных институтов современной России&raquo;: https://aspirantura.hse.ru/defence/announcements/188686001.html\n",
      "&laquo;Факторы осуществления коррупционных сделок в посткоммунистических государствах Европы&raquo;: https://aspirantura.hse.ru/defence/announcements/188686101.html\n",
      "&laquo;Public Private Interaction: Design and Deliberation&raquo;: https://perm.hse.ru/announcements/188930202.html\n",
      "&laquo;Финансовая репрессия в форме нерыночного размещения государственного долга&raquo;: https://aspirantura.hse.ru/defence/announcements/186784063.html\n",
      "&laquo;Университет, открытый городу: лекционные четверги в музеях Москвы&raquo;: https://www.hse.ru/lectorian/announcements/191423203.html\n",
      "&laquo;Формирование учения о договоре в правовой науке Западной Европы (XII&ndash;XVI вв.)&raquo;: https://aspirantura.hse.ru/defence/announcements/186307595.html\n",
      "&laquo;Университет, открытый городу: Лекции молодых ученых Вышки в Культурном центре ЗИЛ&raquo;: https://www.hse.ru/lectorian/announcements/191413831.html?utm_source=announcement&amp;utm_medium=main&amp;utm_campaign=lectorian_2016\n",
      "бакалаврских образовательных программ факультета экономических наук: https://economics.hse.ru/announcements/190451498.html\n",
      "&laquo;Л.С. Выготский и современное детство&raquo;: https://ioe.hse.ru/announcements/186665621.html\n",
      "&laquo;Л.С. Выготский и современное детство&raquo;: https://ioe.hse.ru/announcements/186665621.html\n",
      "&laquo;Университет, открытый городу: Лекции молодых ученых Вышки в Культурном центре ЗИЛ&raquo;: https://www.hse.ru/lectorian/announcements/191416659.html?utm_source=announcement&amp;utm_medium=main&amp;utm_campaign=lectorian_2016\n",
      "&laquo;Университет, открытый городу: Лекции молодых ученых Вышки в Культурном центре ЗИЛ&raquo;: https://www.hse.ru/lectorian/announcements/191514413.html?utm_source=announcement&amp;utm_medium=main&amp;utm_campaign=lectorian_2016\n",
      "XVIII Апрельская международная научная конференция &laquo;Модернизация экономики и общества&raquo;: /news/186991819.html\n",
      "XVIII Апрельская международная научная конференция &laquo;Модернизация экономики и общества&raquo;: /news/186991819.html\n",
      "XVIII Апрельская международная научная конференция &laquo;Модернизация экономики и общества&raquo;: /news/186991819.html\n",
      "XVIII Апрельская международная научная конференция &laquo;Модернизация экономики и общества&raquo;: /news/186991819.html\n",
      "&laquo;Город и бизнес: согласованное управление в эпоху технологий&raquo;: https://irsup.hse.ru/smartcityschool/\n",
      "&laquo;Город и бизнес: согласованное управление в эпоху технологий&raquo;: https://irsup.hse.ru/smartcityschool/\n",
      "&laquo;Город и бизнес: согласованное управление в эпоху технологий&raquo;: https://irsup.hse.ru/smartcityschool/\n",
      "&laquo;Город и бизнес: согласованное управление в эпоху технологий&raquo;: https://irsup.hse.ru/smartcityschool/\n",
      "&laquo;Город и бизнес: согласованное управление в эпоху технологий&raquo;: https://irsup.hse.ru/smartcityschool/\n",
      "&laquo;Город и бизнес: согласованное управление в эпоху технологий&raquo;: https://irsup.hse.ru/smartcityschool/\n",
      "&laquo;Город и бизнес: согласованное управление в эпоху технологий&raquo;: https://irsup.hse.ru/smartcityschool/\n",
      "&laquo;Город и бизнес: согласованное управление в эпоху технологий&raquo;: https://irsup.hse.ru/smartcityschool/\n",
      "&laquo;Город и бизнес: согласованное управление в эпоху технологий&raquo;: https://irsup.hse.ru/smartcityschool/\n",
      "&laquo;Город и бизнес: согласованное управление в эпоху технологий&raquo;: https://irsup.hse.ru/smartcityschool/\n",
      "&laquo;Город и бизнес: согласованное управление в эпоху технологий&raquo;: https://irsup.hse.ru/smartcityschool/\n",
      "&laquo;Город и бизнес: согласованное управление в эпоху технологий&raquo;: https://irsup.hse.ru/smartcityschool/\n",
      "&laquo;Город и бизнес: согласованное управление в эпоху технологий&raquo;: https://irsup.hse.ru/smartcityschool/\n",
      "&laquo;Город и бизнес: согласованное управление в эпоху технологий&raquo;: https://irsup.hse.ru/smartcityschool/\n",
      "&laquo;Город и бизнес: согласованное управление в эпоху технологий&raquo;: https://irsup.hse.ru/smartcityschool/\n",
      "&laquo;Город и бизнес: согласованное управление в эпоху технологий&raquo;: https://irsup.hse.ru/smartcityschool/\n",
      "&laquo;Город и бизнес: согласованное управление в эпоху технологий&raquo;: https://irsup.hse.ru/smartcityschool/\n",
      "&laquo;Город и бизнес: согласованное управление в эпоху технологий&raquo;: https://irsup.hse.ru/smartcityschool/\n",
      "&laquo;Город и бизнес: согласованное управление в эпоху технологий&raquo;: https://irsup.hse.ru/smartcityschool/\n",
      "&laquo;Город и бизнес: согласованное управление в эпоху технологий&raquo;: https://irsup.hse.ru/smartcityschool/\n",
      "&laquo;Город и бизнес: согласованное управление в эпоху технологий&raquo;: https://irsup.hse.ru/smartcityschool/\n",
      "&laquo;Город и бизнес: согласованное управление в эпоху технологий&raquo;: https://irsup.hse.ru/smartcityschool/\n",
      "&laquo;Город и бизнес: согласованное управление в эпоху технологий&raquo;: https://irsup.hse.ru/smartcityschool/\n",
      "&laquo;Город и бизнес: согласованное управление в эпоху технологий&raquo;: https://irsup.hse.ru/smartcityschool/\n",
      "&laquo;Город и бизнес: согласованное управление в эпоху технологий&raquo;: https://irsup.hse.ru/smartcityschool/\n",
      "&laquo;Город и бизнес: согласованное управление в эпоху технологий&raquo;: https://irsup.hse.ru/smartcityschool/\n",
      "&laquo;Город и бизнес: согласованное управление в эпоху технологий&raquo;: https://irsup.hse.ru/smartcityschool/\n",
      "&laquo;Город и бизнес: согласованное управление в эпоху технологий&raquo;: https://irsup.hse.ru/smartcityschool/\n",
      "&laquo;Город и бизнес: согласованное управление в эпоху технологий&raquo;: https://irsup.hse.ru/smartcityschool/\n",
      "&laquo;Город и бизнес: согласованное управление в эпоху технологий&raquo;: https://irsup.hse.ru/smartcityschool/\n",
      "Все мероприятия: https://www.hse.ru/news/announcements/\n",
      "Главный корпус: https://www.hse.ru/contacts.html\n",
      "Карта зданий: http://www.hse.ru/buildinghse\n",
      "Приемная комиссия: http://ba.hse.ru/\n",
      "Пресс-служба ВШЭ: http://www.hse.ru/pr/press\n",
      "ВышкаFamily: http://family.hse.ru/\n",
      "О поступлении в Лицей: http://forum.hse.ru/newforum/index.php?t=thread&amp;frm_id=178&amp;S=6ddd300093d313d5d92cbdd6adc240d9\n",
      "О поступлении в НИУ ВШЭ: http://forum.hse.ru/newforum/index.php?t=thread&amp;frm_id=87&amp;S=e36a456f132336af8c64dd2943040f5c\n",
      "Иностранным абитуриентам: http://forum.hse.ru/newforum/index.php?t=thread&amp;frm_id=152&amp;S=e36a456f132336af8c64dd2943040f5c\n",
      "Участникам олимпиад&nbsp;НИУ ВШЭ: http://forum.hse.ru/newforum/index.php?t=thread&amp;frm_id=149&amp;S=e36a456f132336af8c64dd2943040f5c\n",
      "О поступлении в аспирантуру: http://forum.hse.ru/newforum/index.php?t=thread&amp;frm_id=113&amp;S=6f4d8062c8b9c57bac9c50469802836f\n",
      "О поступлении на программы ДПО: http://forum.hse.ru/newforum/index.php?t=thread&amp;frm_id=134&amp;S=6f4d8062c8b9c57bac9c50469802836f\n",
      "Адреса и контакты: https://www.hse.ru/contacts.html\n",
      "Условия использования материалов: https://www.hse.ru/copyright\n",
      "Карта сайта: http://www.hse.ru/sitemap.html\n",
      "Лабораторией дизайна НИУ ВШЭ: http://design.hse.ru/lab\n"
     ]
    }
   ],
   "source": [
    "# Кроме url в результаты поиска также попали hash-ссылки (которые начинаются с #) и почта\n",
    "# Уберем из из результатов\n",
    "links = re.findall('<a href=\"([^@\"#]+)\">([^<]*)</a>', text) # Добавлены @ и #  в исключение в href\n",
    "for url, data in links:\n",
    "    print(\"{0}: {1}\".format(data, url))"
   ]
  },
  {
   "cell_type": "code",
   "execution_count": 82,
   "metadata": {
    "collapsed": false
   },
   "outputs": [
    {
     "name": "stdout",
     "output_type": "stream",
     "text": [
      "My phone number is [Private information] and his number is [Private information]\n"
     ]
    }
   ],
   "source": [
    "# Помимо поиска регулярные выражения позволяют делать замену в исходной строке\n",
    "a = \"My phone number is 89876543210 and his number is 89741236547\"\n",
    "result = re.sub(\"[0-9]+\", '[Private information]', a)\n",
    "print(result) # скрытие всех номеров в строке"
   ]
  },
  {
   "cell_type": "code",
   "execution_count": 89,
   "metadata": {
    "collapsed": false
   },
   "outputs": [
    {
     "name": "stdout",
     "output_type": "stream",
     "text": [
      "['0', '54', '65', '11', '6', '54', '1', '5', '4', '546', '4', '5', '4', '']\n"
     ]
    }
   ],
   "source": [
    "# Также можно разбивать строки не по константной строке, а по шаблону\n",
    "a = \"0df54d65g11ds6g54g1df5g4dfg546g4g5df4g\" \n",
    "numbers = re.split(\"[a-z]+\", a) # вытащить все числа, разделенные буквами\n",
    "print(numbers)"
   ]
  },
  {
   "cell_type": "markdown",
   "metadata": {},
   "source": [
    "Здесь были приведены базовые, наиболее часто используемые функции\n",
    "\n",
    "Более подробно про данный модуль с Питоне можно прочитать на официальном сайте\n",
    "https://docs.python.org/2/library/re.html"
   ]
  },
  {
   "cell_type": "markdown",
   "metadata": {},
   "source": [
    "# Filter, map, zip, reduce"
   ]
  },
  {
   "cell_type": "code",
   "execution_count": 90,
   "metadata": {
    "collapsed": true
   },
   "outputs": [],
   "source": [
    "# В сам Питон также встроены несколько фукнций, позволяющих более удобно модифицировать коллекции\n",
    "# Для их использования никаких модулей подключать не требуется - все работает из коробки"
   ]
  },
  {
   "cell_type": "code",
   "execution_count": 94,
   "metadata": {
    "collapsed": false
   },
   "outputs": [
    {
     "name": "stdout",
     "output_type": "stream",
     "text": [
      "[0, 2, 4, 6, 8, 10, 12, 14, 16, 18, 20, 22, 24, 26, 28, 30, 32, 34, 36, 38, 40, 42, 44, 46, 48, 50, 52, 54, 56, 58, 60, 62, 64, 66, 68, 70, 72, 74, 76, 78, 80, 82, 84, 86, 88, 90, 92, 94, 96, 98]\n",
      "\n",
      "[0, 1, 2, 3, 4, 5, 6, 7, 8, 9, 10, 11, 12, 13, 14, 15, 16, 17, 18, 19, 20, 21, 22, 23, 24, 25, 26, 27, 28, 29, 30, 31, 32, 33, 34, 35, 36, 37, 38, 39, 40, 41, 42, 43, 44, 45, 46, 47, 48, 49]\n",
      "\n",
      "[0, 1, 4, 9, 16, 25, 36, 49, 64, 81]\n"
     ]
    }
   ],
   "source": [
    "# Filter  возвращает список тех элементов исходной последовательности, что удовлетворяют условию\n",
    "a = list(range(100))\n",
    "\n",
    "even = list(filter(lambda x: x % 2 == 0, a))\n",
    "less50 = list(filter(lambda x: x < 50, a))\n",
    "square = list(filter(lambda x: int(x**0.5)**2 == x, a))\n",
    "\n",
    "print(even, less50, square, sep='\\n\\n')"
   ]
  },
  {
   "cell_type": "code",
   "execution_count": 100,
   "metadata": {
    "collapsed": false
   },
   "outputs": [
    {
     "name": "stdout",
     "output_type": "stream",
     "text": [
      "[0, 1, 4, 9, 16, 25, 36, 49, 64, 81]\n",
      "\n",
      "[0, 1, 8, 27, 64, 125, 216, 343, 512, 729]\n",
      "\n",
      "aAAbbbAbCccBBcccBNc\n"
     ]
    }
   ],
   "source": [
    "# Map возвращает список из элеметнов исходной последовательности, к которым была применена указанная функция\n",
    "\n",
    "a = list(range(10))\n",
    "b = \"AaaBBBaBcCCbbCCCbnC\"\n",
    "\n",
    "square = list(map(lambda x: x**2, a))\n",
    "cube = list(map(lambda x: x**3, a))\n",
    "changeRegister = \"\".join(map(lambda x: x.upper() if x.islower() else x.lower(), b ))\n",
    "\n",
    "print(square, cube, changeRegister, sep='\\n\\n')"
   ]
  },
  {
   "cell_type": "code",
   "execution_count": 105,
   "metadata": {
    "collapsed": false
   },
   "outputs": [
    {
     "name": "stdout",
     "output_type": "stream",
     "text": [
      "[5, 16, 69, 56]\n",
      "['Hello Alexander', 'GoodBye Boris']\n"
     ]
    }
   ],
   "source": [
    "# Map также может применять функцию к нескольким коллекциям сразу\n",
    "a = [1, 2, 3, 4]\n",
    "b = [5, 8, 23, 14]\n",
    "\n",
    "aa = [\"Hello\", \"GoodBye\"]\n",
    "bb = [\"Alexander\", \"Boris\"]\n",
    "\n",
    "c = list(map(lambda x, y: x * y, a, b)) # Сумма соответствующих элементов списков\n",
    "d = list(map(lambda x, y: \"{0} {1}\".format(x, y), aa, bb))\n",
    "print(c)\n",
    "print(d)"
   ]
  },
  {
   "cell_type": "code",
   "execution_count": 108,
   "metadata": {
    "collapsed": false
   },
   "outputs": [
    {
     "name": "stdout",
     "output_type": "stream",
     "text": [
      "[(1, 5), (2, 8), (3, 23), (4, 14)]\n"
     ]
    }
   ],
   "source": [
    "# Более гибкой альтернативой применению map, как в предыдущем случае, является функция zip\n",
    "# Она создает новый список, состоящий из соответствующих пар елементов из каждой коллекции\n",
    "a = [1, 2, 3, 4]\n",
    "b = [5, 8, 23, 14]\n",
    "print(list(zip(a, b)))"
   ]
  },
  {
   "cell_type": "code",
   "execution_count": 110,
   "metadata": {
    "collapsed": false
   },
   "outputs": [
    {
     "name": "stdout",
     "output_type": "stream",
     "text": [
      "AaAaAa\n",
      "MFPMFPMFPMFP\n",
      "SCDSCDSCDSCDSCD\n"
     ]
    }
   ],
   "source": [
    "a = [3, 2, 3, 4, 5]\n",
    "b = [True, False, False, True, True]\n",
    "c = [\"Aa\", \"FD\", \"NNJ\", \"MFP\", \"SCD\"]\n",
    "\n",
    "for count, isprint, string in zip(a, b, c): # идем по трем спискам одновременно\n",
    "    if(isprint):\n",
    "        print(string * count)"
   ]
  },
  {
   "cell_type": "code",
   "execution_count": 114,
   "metadata": {
    "collapsed": false
   },
   "outputs": [
    {
     "name": "stdout",
     "output_type": "stream",
     "text": [
      "55\n",
      "3628800\n"
     ]
    }
   ],
   "source": [
    "# Reduce применяет функцию двух переменных к элементам коллекции и возвращает посчитанный результат\n",
    "\n",
    "from functools import reduce # в последнем питоне reduce вынесли в отдельный модуль\n",
    "\n",
    "summ = reduce(lambda x, y: x+y, range(11)) # Сумма первых 10 чисел\n",
    "product = reduce(lambda x, y: x*y, range(1, 11)) # Произведение первых 10 чисел (он же факториал)\n",
    "\n",
    "print(summ, product, sep='\\n')"
   ]
  },
  {
   "cell_type": "code",
   "execution_count": 121,
   "metadata": {
    "collapsed": false
   },
   "outputs": [
    {
     "name": "stdout",
     "output_type": "stream",
     "text": [
      "4\n",
      "bbbaaassshhhfffbbbhhhaaassslllfffbbbhhhsssdddbbbfffhhhsssdddlllaaasssfffhhhhhhdddsssffflllaaabbbsssdddfffhhhbbbjjjbbbfff\n"
     ]
    }
   ],
   "source": [
    "# Начальное значение для reduce - это или первый элемент коллекции или его можно задать последним аргументом\n",
    "a = \"bashfbhaslfbhsdbfhsdlasfhhdsflabsdfhbjbf\"\n",
    "\n",
    "acount = reduce(lambda x, y: x if y != 'a' else x + 1, a, 0) # подсчитываем количество 'a' в строке. 0 - начальное значение\n",
    "triple = reduce(lambda x, y: x + y*3, a, \"\") # утроение кажой буквы. Пустая строка - начальное значение\n",
    "\n",
    "print(acount, triple, sep='\\n')"
   ]
  },
  {
   "cell_type": "code",
   "execution_count": null,
   "metadata": {
    "collapsed": true
   },
   "outputs": [],
   "source": []
  }
 ],
 "metadata": {
  "kernelspec": {
   "display_name": "Python 3",
   "language": "python",
   "name": "python3"
  },
  "language_info": {
   "codemirror_mode": {
    "name": "ipython",
    "version": 3
   },
   "file_extension": ".py",
   "mimetype": "text/x-python",
   "name": "python",
   "nbconvert_exporter": "python",
   "pygments_lexer": "ipython3",
   "version": "3.5.1"
  }
 },
 "nbformat": 4,
 "nbformat_minor": 0
}
