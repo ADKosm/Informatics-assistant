{
 "cells": [
  {
   "cell_type": "markdown",
   "metadata": {},
   "source": [
    "# Функции\n",
    "\n",
    "Для увеличения многократного использования кода и удобного разделения программы на отдельные блоки, С++ поддерживает функции. Они во многом очень похожи на функции в питоне."
   ]
  },
  {
   "cell_type": "code",
   "execution_count": 1,
   "metadata": {
    "collapsed": false
   },
   "outputs": [
    {
     "data": {
      "text/plain": []
     },
     "execution_count": 1,
     "metadata": {},
     "output_type": "execute_result"
    }
   ],
   "source": [
    "#include <iostream>\n",
    "#include <vector>\n",
    "#include <set>\n",
    "#include <algorithm>"
   ]
  },
  {
   "cell_type": "code",
   "execution_count": 2,
   "metadata": {
    "collapsed": false
   },
   "outputs": [
    {
     "name": "stdout",
     "output_type": "stream",
     "text": [
      "15\n"
     ]
    },
    {
     "data": {
      "text/plain": [
       "(std::basic_ostream<char, std::char_traits<char> >::__ostream_type &) @0x7f258d9646e0\n"
      ]
     },
     "execution_count": 2,
     "metadata": {},
     "output_type": "execute_result"
    }
   ],
   "source": [
    "// Любая функция может возвращать только одно значение заранее указанного типа\n",
    "int func() { // int перед именем - тип возвращаемого значения\n",
    "    return 15; // просто возвращаем значение\n",
    "}\n",
    "\n",
    "int a = func();\n",
    "std::cout << a << std::endl;"
   ]
  },
  {
   "cell_type": "code",
   "execution_count": 2,
   "metadata": {
    "collapsed": false
   },
   "outputs": [
    {
     "name": "stdout",
     "output_type": "stream",
     "text": [
      "Hello, hello!\n"
     ]
    },
    {
     "data": {
      "text/plain": [
       "(void) @0x7fffa0492480\n"
      ]
     },
     "execution_count": 2,
     "metadata": {},
     "output_type": "execute_result"
    }
   ],
   "source": [
    "// Если функция не возвращает значений, то необходимо указать тип void\n",
    "void sayHello() {\n",
    "    std::cout << \"Hello, hello!\" << std::endl;\n",
    "    // нет возвращаемого значения\n",
    "}\n",
    "\n",
    "sayHello(); // вызов"
   ]
  },
  {
   "cell_type": "code",
   "execution_count": 3,
   "metadata": {
    "collapsed": false
   },
   "outputs": [
    {
     "name": "stderr",
     "output_type": "stream",
     "text": [
      "input_line_8:6:15: error: use of undeclared identifier 'err'; did you mean 'errr'?\n",
      " std::cout << err() << std::endl;\n",
      "              ^~~\n",
      "              errr\n",
      "input_line_8:1:6: note: 'errr' declared here\n",
      "void errr() {\n",
      "     ^\n",
      "input_line_8:6:12: error: invalid operands to binary expression ('ostream' (aka 'basic_ostream<char>') and 'void')\n",
      " std::cout << err() << std::endl;\n",
      " ~~~~~~~~~ ^  ~~~~~\n",
      "/usr/include/c++/4.8/ostream:108:7: note: candidate function not viable: cannot convert argument of incomplete type 'void' to '__ostream_type &(*)(__ostream_type &)' (aka 'basic_ostream<char, std::char_traits<char> > &(*)(basic_ostream<char, std::char_traits<char> > &)') for 1st argument\n",
      "      operator<<(__ostream_type& (*__pf)(__ostream_type&))\n",
      "      ^\n",
      "/usr/include/c++/4.8/ostream:117:7: note: candidate function not viable: cannot convert argument of incomplete type 'void' to '__ios_type &(*)(__ios_type &)' (aka 'basic_ios<char, std::char_traits<char> > &(*)(basic_ios<char, std::char_traits<char> > &)') for 1st argument\n",
      "      operator<<(__ios_type& (*__pf)(__ios_type&))\n",
      "      ^\n",
      "/usr/include/c++/4.8/ostream:127:7: note: candidate function not viable: cannot convert argument of incomplete type 'void' to 'std::ios_base &(*)(std::ios_base &)' for 1st argument\n",
      "      operator<<(ios_base& (*__pf) (ios_base&))\n",
      "      ^\n",
      "/usr/include/c++/4.8/ostream:166:7: note: candidate function not viable: cannot convert argument of incomplete type 'void' to 'long' for 1st argument\n",
      "      operator<<(long __n)\n",
      "      ^\n",
      "/usr/include/c++/4.8/ostream:170:7: note: candidate function not viable: cannot convert argument of incomplete type 'void' to 'unsigned long' for 1st argument\n",
      "      operator<<(unsigned long __n)\n",
      "      ^\n",
      "/usr/include/c++/4.8/ostream:174:7: note: candidate function not viable: cannot convert argument of incomplete type 'void' to 'bool' for 1st argument\n",
      "      operator<<(bool __n)\n",
      "      ^\n",
      "/usr/include/c++/4.8/ostream:178:7: note: candidate function not viable: cannot convert argument of incomplete type 'void' to 'short' for 1st argument\n",
      "      operator<<(short __n);\n",
      "      ^\n",
      "/usr/include/c++/4.8/ostream:181:7: note: candidate function not viable: cannot convert argument of incomplete type 'void' to 'unsigned short' for 1st argument\n",
      "      operator<<(unsigned short __n)\n",
      "      ^\n",
      "/usr/include/c++/4.8/ostream:189:7: note: candidate function not viable: cannot convert argument of incomplete type 'void' to 'int' for 1st argument\n",
      "      operator<<(int __n);\n",
      "      ^\n",
      "/usr/include/c++/4.8/ostream:192:7: note: candidate function not viable: cannot convert argument of incomplete type 'void' to 'unsigned int' for 1st argument\n",
      "      operator<<(unsigned int __n)\n",
      "      ^\n",
      "/usr/include/c++/4.8/ostream:201:7: note: candidate function not viable: cannot convert argument of incomplete type 'void' to 'long long' for 1st argument\n",
      "      operator<<(long long __n)\n",
      "      ^\n",
      "/usr/include/c++/4.8/ostream:205:7: note: candidate function not viable: cannot convert argument of incomplete type 'void' to 'unsigned long long' for 1st argument\n",
      "      operator<<(unsigned long long __n)\n",
      "      ^\n",
      "/usr/include/c++/4.8/ostream:220:7: note: candidate function not viable: cannot convert argument of incomplete type 'void' to 'double' for 1st argument\n",
      "      operator<<(double __f)\n",
      "      ^\n",
      "/usr/include/c++/4.8/ostream:224:7: note: candidate function not viable: cannot convert argument of incomplete type 'void' to 'float' for 1st argument\n",
      "      operator<<(float __f)\n",
      "      ^\n",
      "/usr/include/c++/4.8/ostream:232:7: note: candidate function not viable: cannot convert argument of incomplete type 'void' to 'long double' for 1st argument\n",
      "      operator<<(long double __f)\n",
      "      ^\n",
      "/usr/include/c++/4.8/ostream:245:7: note: candidate function not viable: cannot convert argument of incomplete type 'void' to 'const void *' for 1st argument\n",
      "      operator<<(const void* __p)\n",
      "      ^\n",
      "/usr/include/c++/4.8/ostream:270:7: note: candidate function not viable: cannot convert argument of incomplete type 'void' to '__streambuf_type *' (aka 'basic_streambuf<char, std::char_traits<char> > *') for 1st argument\n",
      "      operator<<(__streambuf_type* __sb);\n",
      "      ^\n",
      "/usr/include/c++/4.8/ostream:476:5: note: candidate function [with _CharT = char, _Traits = std::char_traits<char>] not viable: cannot convert argument of incomplete type 'void' to 'char' for 2nd argument\n",
      "    operator<<(basic_ostream<_CharT, _Traits>& __out, char __c)\n",
      "    ^\n",
      "/usr/include/c++/4.8/ostream:482:5: note: candidate function [with _Traits = std::char_traits<char>] not viable: cannot convert argument of incomplete type 'void' to 'char' for 2nd argument\n",
      "    operator<<(basic_ostream<char, _Traits>& __out, char __c)\n",
      "    ^\n",
      "/usr/include/c++/4.8/ostream:488:5: note: candidate function [with _Traits = std::char_traits<char>] not viable: cannot convert argument of incomplete type 'void' to 'signed char' for 2nd argument\n",
      "    operator<<(basic_ostream<char, _Traits>& __out, signed char __c)\n",
      "    ^\n",
      "/usr/include/c++/4.8/ostream:493:5: note: candidate function [with _Traits = std::char_traits<char>] not viable: cannot convert argument of incomplete type 'void' to 'unsigned char' for 2nd argument\n",
      "    operator<<(basic_ostream<char, _Traits>& __out, unsigned char __c)\n",
      "    ^\n",
      "/usr/include/c++/4.8/ostream:530:5: note: candidate function [with _Traits = std::char_traits<char>] not viable: cannot convert argument of incomplete type 'void' to 'const char *' for 2nd argument\n",
      "    operator<<(basic_ostream<char, _Traits>& __out, const char* __s)\n",
      "    ^\n",
      "/usr/include/c++/4.8/ostream:543:5: note: candidate function [with _Traits = std::char_traits<char>] not viable: cannot convert argument of incomplete type 'void' to 'const signed char *' for 2nd argument\n",
      "    operator<<(basic_ostream<char, _Traits>& __out, const signed char* __s)\n",
      "    ^\n",
      "/usr/include/c++/4.8/ostream:548:5: note: candidate function [with _Traits = std::char_traits<char>] not viable: cannot convert argument of incomplete type 'void' to 'const unsigned char *' for 2nd argument\n",
      "    operator<<(basic_ostream<char, _Traits>& __out, const unsigned char* __s)\n",
      "    ^\n",
      "/usr/include/c++/4.8/bits/ostream.tcc:321:5: note: candidate function [with _CharT = char, _Traits = std::char_traits<char>] not viable: cannot convert argument of incomplete type 'void' to 'const char *' for 2nd argument\n",
      "    operator<<(basic_ostream<_CharT, _Traits>& __out, const char* __s)\n",
      "    ^\n",
      "/usr/include/c++/4.8/ostream:471:5: note: candidate template ignored: deduced conflicting types for parameter '_CharT' ('char' vs. 'void')\n",
      "    operator<<(basic_ostream<_CharT, _Traits>& __out, _CharT __c)\n",
      "    ^\n",
      "/usr/include/c++/4.8/bits/basic_string.h:2753:5: note: candidate template ignored: could not match 'basic_string<type-parameter-0-0, type-parameter-0-1, type-parameter-0-2>' against 'void'\n",
      "    operator<<(basic_ostream<_CharT, _Traits>& __os,\n",
      "    ^\n",
      "/usr/include/c++/4.8/ostream:513:5: note: candidate template ignored: could not match 'const _CharT *' against 'void'\n",
      "    operator<<(basic_ostream<_CharT, _Traits>& __out, const _CharT* __s)\n",
      "    ^\n",
      "/usr/include/c++/4.8/ostream:602:5: note: candidate template ignored: substitution failure [with _CharT = char, _Traits = std::char_traits<char>, _Tp = void]: cannot form a reference to 'void'\n",
      "    operator<<(basic_ostream<_CharT, _Traits>&& __os, const _Tp& __x)\n",
      "    ^                                                          ~\n"
     ]
    },
    {
     "ename": "ename",
     "evalue": "evalue",
     "output_type": "error",
     "traceback": []
    }
   ],
   "source": [
    "void errr() { \n",
    "    return 42; // ошибка\n",
    "}\n",
    "\n",
    "std::cout << err() << std::endl;"
   ]
  },
  {
   "cell_type": "code",
   "execution_count": 4,
   "metadata": {
    "collapsed": false
   },
   "outputs": [
    {
     "name": "stdout",
     "output_type": "stream",
     "text": [
      "90\n"
     ]
    },
    {
     "data": {
      "text/plain": [
       "(std::basic_ostream<char, std::char_traits<char> >::__ostream_type &) @0x7f15b0be86e0\n"
      ]
     },
     "execution_count": 4,
     "metadata": {},
     "output_type": "execute_result"
    }
   ],
   "source": [
    "// Функция может принимать некоторое количество аргументов\n",
    "// все они указываются в круглых скобках через запятую с указанием типа\n",
    "int summa(int a, int b) {\n",
    "    int result = a + b;\n",
    "    return result;\n",
    "}\n",
    "\n",
    "std::cout << summa(34, 56) << std::endl;"
   ]
  },
  {
   "cell_type": "code",
   "execution_count": 5,
   "metadata": {
    "collapsed": false
   },
   "outputs": [
    {
     "name": "stdout",
     "output_type": "stream",
     "text": [
      "Hello, Boris\n",
      "Hello, Boris\n",
      "Hello, Boris\n",
      "Hello, Boris\n",
      "Hello, Boris\n"
     ]
    },
    {
     "data": {
      "text/plain": [
       "(void) @0x7fffa0492480\n"
      ]
     },
     "execution_count": 5,
     "metadata": {},
     "output_type": "execute_result"
    }
   ],
   "source": [
    "void sayHello2(std::string name, int number) {\n",
    "    for(int i = 0; i < number; i++) {\n",
    "        std::cout << \"Hello, \" << name << std::endl;\n",
    "    }\n",
    "}\n",
    "\n",
    "sayHello2(\"Boris\", 5);"
   ]
  },
  {
   "cell_type": "code",
   "execution_count": 3,
   "metadata": {
    "collapsed": false
   },
   "outputs": [
    {
     "name": "stdout",
     "output_type": "stream",
     "text": [
      "4\n",
      "10\n"
     ]
    },
    {
     "data": {
      "text/plain": [
       "(std::basic_ostream<char, std::char_traits<char> >::__ostream_type &) @0x7f891cafb6e0\n"
      ]
     },
     "execution_count": 3,
     "metadata": {},
     "output_type": "execute_result"
    }
   ],
   "source": [
    "// Все аргументы по-умолчанию копируются. Таким образом нельзя повлиять на исходную переменную\n",
    "int add(int a, int b) {\n",
    "    a = a + b; // меняем a внутри функции\n",
    "    return a;\n",
    "}\n",
    "\n",
    "int n = 4, m = 6;\n",
    "\n",
    "int nplusm = add(n, m);\n",
    "\n",
    "std::cout << n << std::endl; // n не поменялось\n",
    "std::cout << nplusm << std::endl;"
   ]
  },
  {
   "cell_type": "code",
   "execution_count": 4,
   "metadata": {
    "collapsed": false
   },
   "outputs": [
    {
     "name": "stdout",
     "output_type": "stream",
     "text": [
      "10\n",
      "10\n"
     ]
    },
    {
     "data": {
      "text/plain": [
       "(std::basic_ostream<char, std::char_traits<char> >::__ostream_type &) @0x7f891cafb6e0\n"
      ]
     },
     "execution_count": 4,
     "metadata": {},
     "output_type": "execute_result"
    }
   ],
   "source": [
    "// чтобы работать с исходной переменной, а не с ее копией, необходимо передать аргумент по ссылке\n",
    "// для этого необходимо указать амперсанд & перед аргументом\n",
    "int addInline(int &a, int b) {\n",
    "    a = a + b;\n",
    "    return a;\n",
    "}\n",
    "\n",
    "n = 4;\n",
    "m = 6;\n",
    "\n",
    "nplusm = addInline(n, m);\n",
    "\n",
    "std::cout << n << std::endl; // n изменилось\n",
    "std::cout << nplusm << std::endl;"
   ]
  },
  {
   "cell_type": "code",
   "execution_count": 5,
   "metadata": {
    "collapsed": false
   },
   "outputs": [
    {
     "name": "stdout",
     "output_type": "stream",
     "text": [
      "Палиндром\n"
     ]
    },
    {
     "data": {
      "text/plain": []
     },
     "execution_count": 5,
     "metadata": {},
     "output_type": "execute_result"
    }
   ],
   "source": [
    "// пример\n",
    "bool isPalindr(std::string s) {\n",
    "    std::string rev;\n",
    "    for(int i = s.size() - 1; i >= 0; i--) {\n",
    "        rev.push_back(s[i]);\n",
    "    }\n",
    "    return rev == s;\n",
    "}\n",
    "\n",
    "if(isPalindr(\"HellolleH\")) {\n",
    "    std::cout << \"Палиндром\" << std::endl;\n",
    "} else {\n",
    "    std::cout << \"Не палиндром\" << std::endl;\n",
    "}"
   ]
  },
  {
   "cell_type": "code",
   "execution_count": null,
   "metadata": {
    "collapsed": false
   },
   "outputs": [],
   "source": [
    "// функции в С++ можно перегружать\n",
    "// это означает, что среди нескольких функций с одинаковым названием вызовется нужная (согласно переданным аргументам)\n",
    "int area(int x, int y) {\n",
    "    std::cout << \"Площадь прямоугольника\" << std::endl;\n",
    "    return x * y;\n",
    "}\n",
    "\n",
    "double area(double r) {\n",
    "    std::cout << \"Площадь круга\" << std::endl;\n",
    "    return 3.1415 * r * r;\n",
    "}\n",
    "\n",
    "std::cout << area(4, 5) << std::endl;\n",
    "std::cout << area(3.2) << std::endl;\n",
    "/* \n",
    "Вывод:\n",
    "Площадь прямоугольника\n",
    "20\n",
    "Площадь круга\n",
    "32.169\n",
    "*/"
   ]
  },
  {
   "cell_type": "code",
   "execution_count": 2,
   "metadata": {
    "collapsed": false
   },
   "outputs": [
    {
     "data": {
      "text/plain": []
     },
     "execution_count": 2,
     "metadata": {},
     "output_type": "execute_result"
    }
   ],
   "source": [
    "// C++ также поддерживает так называемые шаблоны\n",
    "// когда вам необходимо написать функцию, которая одинаково работает с любым типом, вы можете воспользоваться\n",
    "// перегрузкой функций и написать столько функций, которые будут отличаться только типом аргументов, сколько \n",
    "// посчитаете нужным. Однако можно сделать проще и использовать шаблон\n",
    "\n",
    "template<class T> // необходимо указать эту строчку сразу перед функцией\n",
    "T summ(T a, T b) { // вмето типов тех переменных, тип которых не важен, необходимо теперь использовать T\n",
    "    T result = a + b; // этот \"тип\" T можно исользовать везде внутри функции\n",
    "    return result;\n",
    "}\n",
    "// после вызова функции, вместо типа T автоматически подставится тот, который был передан в функцию"
   ]
  },
  {
   "cell_type": "code",
   "execution_count": 3,
   "metadata": {
    "collapsed": false
   },
   "outputs": [
    {
     "name": "stdout",
     "output_type": "stream",
     "text": [
      "11\n",
      "14.5\n",
      "Hello Maxie\n"
     ]
    },
    {
     "data": {
      "text/plain": [
       "(std::basic_ostream<char, std::char_traits<char> >::__ostream_type &) @0x7f68619016e0\n"
      ]
     },
     "execution_count": 3,
     "metadata": {},
     "output_type": "execute_result"
    }
   ],
   "source": [
    "\n",
    "std::string h = \"Hello \", n = \"Maxie\";\n",
    "\n",
    "std::cout << summ(4, 7) << std::endl;\n",
    "std::cout << summ(5.6, 8.9) << std::endl;\n",
    "std::cout << summ(h, n) << std::endl;  // данная функция будет работать с любым типом, который поддерживает операцию +"
   ]
  },
  {
   "cell_type": "code",
   "execution_count": 2,
   "metadata": {
    "collapsed": false
   },
   "outputs": [
    {
     "data": {
      "text/plain": []
     },
     "execution_count": 2,
     "metadata": {},
     "output_type": "execute_result"
    }
   ],
   "source": [
    "// изначально удобного способа работы с переменным количеством аргументов в С++ нет\n",
    "// однако, если очень хочется, то можно использовать следующую конструкцию, основанную на шаблоне\n",
    "\n",
    "template<class... Args>\n",
    "double average(Args... args) {\n",
    "    std::vector<int> arguments {args...}; // Теперь в arguments лежат все аргументы. Важно указать int изначально\n",
    "    double sum = 0;\n",
    "    for(int i = 0; i < arguments.size(); i++) {\n",
    "        sum += arguments[i];\n",
    "    }\n",
    "    return sum / double(arguments.size());\n",
    "}"
   ]
  },
  {
   "cell_type": "code",
   "execution_count": 5,
   "metadata": {
    "collapsed": false
   },
   "outputs": [
    {
     "name": "stdout",
     "output_type": "stream",
     "text": [
      "6\n",
      "2\n",
      "10\n"
     ]
    },
    {
     "data": {
      "text/plain": [
       "(std::basic_ostream<char, std::char_traits<char> >::__ostream_type &) @0x7fb10b1a46e0\n"
      ]
     },
     "execution_count": 5,
     "metadata": {},
     "output_type": "execute_result"
    }
   ],
   "source": [
    "std::cout << average(4, 5, 6, 7, 8) << std::endl;\n",
    "std::cout << average(1, 2, 3) << std::endl;\n",
    "std::cout << average(8, 9, 4, 6, 7, 3, 3, 5, 7 ,8, 50) << std::endl;"
   ]
  },
  {
   "cell_type": "code",
   "execution_count": 2,
   "metadata": {
    "collapsed": false
   },
   "outputs": [
    {
     "data": {
      "text/plain": []
     },
     "execution_count": 2,
     "metadata": {},
     "output_type": "execute_result"
    }
   ],
   "source": [
    "// Однако гораздо лучше, просто изначально упаковать все аргументы в какую-то структуру\n",
    "double average2(std::vector<int> v) { \n",
    "    double sum = 0;\n",
    "    for(int i = 0; i < v.size(); i++) {\n",
    "        sum += v[i];\n",
    "    }\n",
    "    return sum / double(v.size());\n",
    "}"
   ]
  },
  {
   "cell_type": "code",
   "execution_count": 3,
   "metadata": {
    "collapsed": false
   },
   "outputs": [
    {
     "name": "stdout",
     "output_type": "stream",
     "text": [
      "6.22222\n",
      "24.5\n"
     ]
    },
    {
     "data": {
      "text/plain": [
       "(std::basic_ostream<char, std::char_traits<char> >::__ostream_type &) @0x7f265515e6e0\n"
      ]
     },
     "execution_count": 3,
     "metadata": {},
     "output_type": "execute_result"
    }
   ],
   "source": [
    "std::cout << average2(std::vector<int>({3, 4, 5, 8, 8, 8, 8, 8, 4})) << std::endl;\n",
    "std::cout << average2(std::vector<int>({3, 5, 87 , 3})) << std::endl;"
   ]
  },
  {
   "cell_type": "code",
   "execution_count": 4,
   "metadata": {
    "collapsed": false
   },
   "outputs": [
    {
     "name": "stdout",
     "output_type": "stream",
     "text": [
      "120\n"
     ]
    },
    {
     "data": {
      "text/plain": [
       "(std::basic_ostream<char, std::char_traits<char> >::__ostream_type &) @0x7f265515e6e0\n"
      ]
     },
     "execution_count": 4,
     "metadata": {},
     "output_type": "execute_result"
    }
   ],
   "source": [
    "// Функции также можно вызывать рекурсивно\n",
    "int factorial(int n) {\n",
    "    if (n == 0) {\n",
    "        return 1;\n",
    "    }\n",
    "    return n * factorial(n-1);\n",
    "}\n",
    "\n",
    "std::cout << factorial(5) << std::endl;"
   ]
  },
  {
   "cell_type": "code",
   "execution_count": 5,
   "metadata": {
    "collapsed": false
   },
   "outputs": [
    {
     "name": "stdout",
     "output_type": "stream",
     "text": [
      "13\n"
     ]
    },
    {
     "data": {
      "text/plain": [
       "(std::basic_ostream<char, std::char_traits<char> >::__ostream_type &) @0x7f265515e6e0\n"
      ]
     },
     "execution_count": 5,
     "metadata": {},
     "output_type": "execute_result"
    }
   ],
   "source": [
    "int fib(int n) {\n",
    "    if(n <= 2) {\n",
    "        return 1;\n",
    "    }\n",
    "    return fib(n-1) + fib(n-2);\n",
    "}\n",
    "\n",
    "std::cout << fib(7) << std::endl;"
   ]
  },
  {
   "cell_type": "code",
   "execution_count": null,
   "metadata": {
    "collapsed": false
   },
   "outputs": [],
   "source": [
    "// чтобы возвращать пару значений, можно возвращать специальный тип pair\n",
    "std::pair<int, int> sumAndMul(int a, int b) {\n",
    "    return std::make_pair(a+b, a*b);\n",
    "}\n",
    "\n",
    "auto res = sumAndMul(3, 4);\n",
    "std::cout << res.first << ' ' << res.second << std::endl; // 7, 12"
   ]
  },
  {
   "cell_type": "markdown",
   "metadata": {},
   "source": [
    "# Итераторы\n",
    "Для начала рассмотрим новый контейнер std::set"
   ]
  },
  {
   "cell_type": "code",
   "execution_count": 4,
   "metadata": {
    "collapsed": false
   },
   "outputs": [
    {
     "name": "stdout",
     "output_type": "stream",
     "text": [
      "3\n"
     ]
    },
    {
     "data": {
      "text/plain": [
       "(std::basic_ostream<char, std::char_traits<char> >::__ostream_type &) @0x7f5b322c26e0\n"
      ]
     },
     "execution_count": 4,
     "metadata": {},
     "output_type": "execute_result"
    }
   ],
   "source": [
    "// set - это контейнер представляющий множество (как в Питоне) - то есть набор значений без повторений\n",
    "std::set<int> s;\n",
    "\n",
    "s.insert(3);\n",
    "s.insert(2);\n",
    "s.insert(3);\n",
    "s.insert(6);\n",
    "s.insert(3);\n",
    "s.insert(6); // добавление элемента\n",
    "\n",
    "std::cout << s.size() << std::endl; // 3 элемента - 3, 2, 6. Дубликаты удалились"
   ]
  },
  {
   "cell_type": "code",
   "execution_count": 4,
   "metadata": {
    "collapsed": false
   },
   "outputs": [
    {
     "name": "stderr",
     "output_type": "stream",
     "text": [
      "input_line_9:6:19: error: type 'std::set<int>' does not provide a subscript operator\n",
      "    std::cout << s[i] << std::endl; // ошибка\n",
      "                 ~^~\n"
     ]
    },
    {
     "ename": "ename",
     "evalue": "evalue",
     "output_type": "error",
     "traceback": []
    }
   ],
   "source": [
    "// Как же получить доступ к элементам множества? \n",
    "// set - это не линейный контейнер, и порядка в элементах нет. Таким образом через [] обратиться не получиться\n",
    "\n",
    "for(int i = 0; i < s.size(); i++) {\n",
    "    std::cout << s[i] << std::endl; // ошибка\n",
    "}"
   ]
  },
  {
   "cell_type": "code",
   "execution_count": 5,
   "metadata": {
    "collapsed": false
   },
   "outputs": [
    {
     "name": "stdout",
     "output_type": "stream",
     "text": [
      "2\n",
      "3\n",
      "6\n"
     ]
    },
    {
     "data": {
      "text/plain": []
     },
     "execution_count": 5,
     "metadata": {},
     "output_type": "execute_result"
    }
   ],
   "source": [
    "// Для того, чтобы разрешить эту проблему (и не только ее) были придуманы итераторы\n",
    "// Итератор - это специальный объект, через который можно получить доступ к элементам контейнера\n",
    "// Каждый итератор умеет две основные вещи: выдавать значение и переходить к следующему элементу\n",
    "// каждый контейнер предоставляет два основных итератора - итератор на начало и на конец контейнера\n",
    "// Таким образом, чтобы получить доступ к каждому элементу коллекции\n",
    "// Необходимо \"идти\" с помощью начального итератора, пока мы не дойдет до конечного элемента\n",
    "\n",
    "for(auto it = s.begin() /*итератор начала*/; it != s.end() /*итератор на конец*/; it++ /*переход к следующему элементу*/) {\n",
    "    int item = *it; // звездочка обозначает взятие соответствующего значения в конетйнере\n",
    "    std::cout << item << std::endl;\n",
    "}"
   ]
  },
  {
   "cell_type": "code",
   "execution_count": 3,
   "metadata": {
    "collapsed": false
   },
   "outputs": [
    {
     "name": "stdout",
     "output_type": "stream",
     "text": [
      "2\n",
      "5\n",
      "6\n",
      "8\n",
      "9\n",
      "3\n",
      "4\n",
      "6\n",
      "6\n",
      "2\n",
      "2\n",
      "5\n",
      "5\n",
      "1\n"
     ]
    },
    {
     "data": {
      "text/plain": []
     },
     "execution_count": 3,
     "metadata": {},
     "output_type": "execute_result"
    }
   ],
   "source": [
    "// Таким же образом можно получать доступ и к элементам вектора\n",
    "std::vector<int> vec({2, 5, 6, 8, 9, 3, 4, 6, 6, 2, 2, 5, 5, 1});\n",
    "for(auto it = vec.begin(); it != vec.end(); it++) {\n",
    "    std::cout << *it << std::endl;\n",
    "}"
   ]
  },
  {
   "cell_type": "code",
   "execution_count": 9,
   "metadata": {
    "collapsed": false
   },
   "outputs": [
    {
     "name": "stdout",
     "output_type": "stream",
     "text": [
      "1 2 2 2 3 4 5 5 5 6 6 6 8 9 "
     ]
    },
    {
     "data": {
      "text/plain": []
     },
     "execution_count": 9,
     "metadata": {},
     "output_type": "execute_result"
    }
   ],
   "source": [
    "// Некоторые распространеные алгоритмы уже реализованы и лежат в модуле algorithm\n",
    "// Подробно об этом модуле будет рассказано в следующих лекциях\n",
    "// Сейчас нас интересует функция sort\n",
    "\n",
    "sort(vec.begin(), vec.end()); //функция принимает итераторы на начало и на конец\n",
    "\n",
    "for(auto it = vec.begin(); it != vec.end(); it++) {\n",
    "    std::cout << *it << ' ';\n",
    "}"
   ]
  },
  {
   "cell_type": "code",
   "execution_count": 10,
   "metadata": {
    "collapsed": false
   },
   "outputs": [
    {
     "name": "stdout",
     "output_type": "stream",
     "text": [
      "9 8 6 6 6 5 5 5 4 3 2 2 2 1 "
     ]
    },
    {
     "data": {
      "text/plain": []
     },
     "execution_count": 10,
     "metadata": {},
     "output_type": "execute_result"
    }
   ],
   "source": [
    "// большинство итераторов предоставляют также обратные итераторы, для прохода множества в обратном порядке\n",
    "for(auto it = vec.rbegin(); it != vec.rend(); it++) {\n",
    "    std::cout << *it << ' ';\n",
    "}"
   ]
  },
  {
   "cell_type": "code",
   "execution_count": 5,
   "metadata": {
    "collapsed": false
   },
   "outputs": [
    {
     "name": "stdout",
     "output_type": "stream",
     "text": [
      "Fynny\n",
      "Gimmy\n",
      "Gobbles\n",
      "Hello\n",
      "Nano\n",
      "Petro\n",
      "Timmy\n"
     ]
    },
    {
     "data": {
      "text/plain": []
     },
     "execution_count": 5,
     "metadata": {},
     "output_type": "execute_result"
    }
   ],
   "source": [
    "std::vector<std::string> vecs({\n",
    "    \"Hello\",\n",
    "    \"Petro\",\n",
    "    \"Timmy\",\n",
    "    \"Gimmy\",\n",
    "    \"Gobbles\",\n",
    "    \"Fynny\",\n",
    "    \"Nano\"\n",
    "});\n",
    "\n",
    "sort(vecs.begin(), vecs.end()); // сортировка в лексикографическом порядке\n",
    "\n",
    "for(auto it = vecs.begin(); it != vecs.end(); it++) {\n",
    "    std::cout << *it << std::endl;\n",
    "}"
   ]
  },
  {
   "cell_type": "code",
   "execution_count": 12,
   "metadata": {
    "collapsed": false
   },
   "outputs": [
    {
     "data": {
      "text/plain": []
     },
     "execution_count": 12,
     "metadata": {},
     "output_type": "execute_result"
    }
   ],
   "source": [
    "// Если необходимо при сортировке использовать свою функцию сравнения, ее можно передать третьим агрументом\n",
    "\n",
    "bool compare(std::string a, std::string b) { // функция должна сравнить два элемента\n",
    "    return a.back() < b.back(); // back возвращает последний символ строки\n",
    "}"
   ]
  },
  {
   "cell_type": "code",
   "execution_count": 13,
   "metadata": {
    "collapsed": false
   },
   "outputs": [
    {
     "name": "stdout",
     "output_type": "stream",
     "text": [
      "Hello\n",
      "Nano\n",
      "Petro\n",
      "Gobbles\n",
      "Fynny\n",
      "Gimmy\n",
      "Timmy\n"
     ]
    },
    {
     "data": {
      "text/plain": []
     },
     "execution_count": 13,
     "metadata": {},
     "output_type": "execute_result"
    }
   ],
   "source": [
    "sort(vecs.begin(), vecs.end(), compare /*важно: скобки писать не нужно*/); // сортируем по последнему символу\n",
    "\n",
    "for(auto it = vecs.begin(); it != vecs.end(); it++) {\n",
    "    std::cout << *it << std::endl;\n",
    "}"
   ]
  },
  {
   "cell_type": "code",
   "execution_count": 15,
   "metadata": {
    "collapsed": false
   },
   "outputs": [
    {
     "name": "stdout",
     "output_type": "stream",
     "text": [
      "Nano\n",
      "Hello\n",
      "Petro\n",
      "Fynny\n",
      "Gimmy\n",
      "Timmy\n",
      "Gobbles\n"
     ]
    },
    {
     "data": {
      "text/plain": []
     },
     "execution_count": 15,
     "metadata": {},
     "output_type": "execute_result"
    }
   ],
   "source": [
    "// Для написания таких вот небольших функций, как и в Питоне, в С++ есть лямбда функции\n",
    "// из синтаксис такой: [](аргументы) { код }\n",
    "\n",
    "sort(vecs.begin(), vecs.end(), [](std::string a, std::string b) {\n",
    "    return a.size() < b.size();\n",
    "}); // сортировка по длинне строки\n",
    "\n",
    "for(auto it = vecs.begin(); it != vecs.end(); it++) {\n",
    "    std::cout << *it << std::endl; \n",
    "}"
   ]
  },
  {
   "cell_type": "code",
   "execution_count": 16,
   "metadata": {
    "collapsed": false
   },
   "outputs": [
    {
     "data": {
      "text/plain": [
       "((lambda) &) @0x7f68ac8a8078\n"
      ]
     },
     "execution_count": 16,
     "metadata": {},
     "output_type": "execute_result"
    }
   ],
   "source": [
    "// лямбда функции можно записывать в переменные и они могут быть сколь угодно сложными (в отличии от питона)\n",
    "auto printVec = [](std::vector<int> d) {\n",
    "    for(auto it = d.begin(); it != d.end(); it++) {\n",
    "        std::cout << *it << ' ';\n",
    "    }\n",
    "};"
   ]
  },
  {
   "cell_type": "code",
   "execution_count": 17,
   "metadata": {
    "collapsed": false
   },
   "outputs": [
    {
     "name": "stdout",
     "output_type": "stream",
     "text": [
      "1 2 2 2 3 4 5 5 5 6 6 6 8 9 "
     ]
    },
    {
     "data": {
      "text/plain": [
       "(void) @0x7ffcca4cfb10\n"
      ]
     },
     "execution_count": 17,
     "metadata": {},
     "output_type": "execute_result"
    }
   ],
   "source": [
    "printVec(vec);"
   ]
  },
  {
   "cell_type": "code",
   "execution_count": 6,
   "metadata": {
    "collapsed": false
   },
   "outputs": [
    {
     "name": "stdout",
     "output_type": "stream",
     "text": [
      "9\n",
      "Timmy\n",
      "6\n"
     ]
    },
    {
     "data": {
      "text/plain": [
       "(std::basic_ostream<char, std::char_traits<char> >::__ostream_type &) @0x7f5b322c26e0\n"
      ]
     },
     "execution_count": 6,
     "metadata": {},
     "output_type": "execute_result"
    }
   ],
   "source": [
    "// С помощью итераторов очень удобно писать алгоритмы, которые будут работать для любого контейнера\n",
    "// Пример: фукнция max_element из algorithm\n",
    "std::cout << *std::max_element(vec.begin(), vec.end()) << std::endl; // массив чисел\n",
    "std::cout << *std::max_element(vecs.begin(), vecs.end()) << std::endl;// массив строк\n",
    "std::cout << *std::max_element(s.begin(), s.end()) << std::endl;     // множество чисел\n",
    "// Важно: функция возвращает итератор, а значит для получения значения, нужно написать *"
   ]
  },
  {
   "cell_type": "markdown",
   "metadata": {},
   "source": [
    "# Создание собственных типов"
   ]
  },
  {
   "cell_type": "code",
   "execution_count": null,
   "metadata": {
    "collapsed": false
   },
   "outputs": [
    {
     "name": "stderr",
     "output_type": "stream",
     "text": [
      "terminate called after throwing an instance of 'cling::InvalidDerefException'\n",
      "  what():  Trying to dereference null pointer or trying to call routine taking non-null arguments\n"
     ]
    }
   ],
   "source": [
    "// для начала рассмотрим работу с ручным динамическим массивом\n",
    "int * a; // Если указывать * в типе переменной, то переменная будет содержать не значение, а ссылку на это значение\n",
    "*a = 5; // Для работы с знаением, необходимо поставить звезду (как в итераторах). \n",
    "// Однако изначально указатель не указывает вообще никуда, а значит и записать значение в него мы не можем\n"
   ]
  },
  {
   "cell_type": "code",
   "execution_count": 3,
   "metadata": {
    "collapsed": false
   },
   "outputs": [
    {
     "name": "stdout",
     "output_type": "stream",
     "text": [
      "0x33bc870\n",
      "5\n"
     ]
    },
    {
     "data": {
      "text/plain": [
       "(std::basic_ostream<char, std::char_traits<char> >::__ostream_type &) @0x7f70e71816e0\n"
      ]
     },
     "execution_count": 3,
     "metadata": {},
     "output_type": "execute_result"
    }
   ],
   "source": [
    "// Для того, чтобы выделить память и получить на нее указатель, нужно использовать оператор new\n",
    "int * a = new int(5); // выделяем память для числа и записываем в нее 5; Указатель на это место в памяти будет в a\n",
    "\n",
    "std::cout << a << std::endl;\n",
    "std::cout << *a << std::endl;"
   ]
  },
  {
   "cell_type": "code",
   "execution_count": 4,
   "metadata": {
    "collapsed": false
   },
   "outputs": [
    {
     "data": {
      "text/plain": [
       "(void) @0x7ffdab960610\n"
      ]
     },
     "execution_count": 4,
     "metadata": {},
     "output_type": "execute_result"
    }
   ],
   "source": [
    "// Эту память необходимо освободить в какой-то момент времени\n",
    "// Если этого не делать, то велика вероятность того, что ваша программа будет захватывать все больше и больше \n",
    "// памяти, пока она не закончится на компьютере (учетка памяти)\n",
    "// Для этого есть оператор delete\n",
    "\n",
    "delete a;"
   ]
  },
  {
   "cell_type": "code",
   "execution_count": 6,
   "metadata": {
    "collapsed": false
   },
   "outputs": [
    {
     "name": "stdout",
     "output_type": "stream",
     "text": [
      "0\n",
      "1\n",
      "4\n",
      "9\n",
      "16\n",
      "25\n",
      "36\n",
      "49\n",
      "64\n",
      "81\n"
     ]
    },
    {
     "data": {
      "text/plain": []
     },
     "execution_count": 6,
     "metadata": {},
     "output_type": "execute_result"
    }
   ],
   "source": [
    "// Таким же образом можно выделять большое количество памяти сразу\n",
    "int * arr = new int[10]; // выделяем память для 10 целых чисел\n",
    "for(int i = 0; i < 10; i++) {\n",
    "    arr[i] = i*i; // Доступ к такому массиву осуществляется через привычные []\n",
    "}\n",
    "\n",
    "for(int i = 0; i < 10; i++) {\n",
    "    std::cout << arr[i] << std::endl;\n",
    "}"
   ]
  },
  {
   "cell_type": "code",
   "execution_count": 7,
   "metadata": {
    "collapsed": false
   },
   "outputs": [
    {
     "data": {
      "text/plain": [
       "(void) @0x7ffdab960610\n"
      ]
     },
     "execution_count": 7,
     "metadata": {},
     "output_type": "execute_result"
    }
   ],
   "source": [
    "// Освобождается память похожим образом\n",
    "delete[] arr;"
   ]
  },
  {
   "cell_type": "code",
   "execution_count": 8,
   "metadata": {
    "collapsed": false
   },
   "outputs": [
    {
     "data": {
      "text/plain": []
     },
     "execution_count": 8,
     "metadata": {},
     "output_type": "execute_result"
    }
   ],
   "source": [
    "// Для создания своего типа, необходимо описать класс следующим образом"
   ]
  },
  {
   "cell_type": "code",
   "execution_count": null,
   "metadata": {
    "collapsed": true
   },
   "outputs": [],
   "source": [
    "#include <iostream>\n",
    "\n",
    "class LVector {\n",
    "public: // публичная секция - тут лежат функции, которые могут быть вызваны у объекта\n",
    "  LVector() { // конструктор - функция вызывается при создании объекта\n",
    "    size = 0; // задать начальные параметры\n",
    "    dataSize = 0;\n",
    "    delta = 4;\n",
    "  }\n",
    "\n",
    "  ~LVector() { // деструктор - вызывается при уничтожении объекта (например конец программы)\n",
    "    delete[] data; // очистить память\n",
    "  }\n",
    "\n",
    "  void push_back(int elem) { // добавить элемент в конец\n",
    "    if(dataSize == size) {\n",
    "      reallocate();\n",
    "    }\n",
    "    data[size] = elem;\n",
    "    size += 1;\n",
    "  }\n",
    "\n",
    "  int at(int index) { // взять элемент под номером (аналог [])\n",
    "    if(index >= 0 and index < size) {\n",
    "      return data[index];\n",
    "    } else {\n",
    "      return 0;\n",
    "    }\n",
    "  }\n",
    "\n",
    "  int getSize() { // узнать размер массива\n",
    "    return size;\n",
    "  }\n",
    "\n",
    "private: // приватная зона - данные +  фукнции, которые нельзя вызывать извне\n",
    "  void reallocate() { // выделяем новое местро для хранения\n",
    "    dataSize = size+delta;\n",
    "    int * newdata = new int[dataSize];\n",
    "    for(int i = 0; i < size; i++) {\n",
    "      newdata[i] = data[i];\n",
    "    }\n",
    "    delete[] data;\n",
    "    data = newdata;\n",
    "  }\n",
    "\n",
    "  // данные объекта\n",
    "  int * data; // указатель на данные\n",
    "  int size; // количество элементов\n",
    "  int dataSize; // количество выделенных ячеек\n",
    "  int delta; // количество выделяемых новых ячеек\n",
    "};\n",
    "\n",
    "int main() {\n",
    "  LVector h; // создание объекта\n",
    "  h.push_back(3);\n",
    "  h.push_back(6);\n",
    "  h.push_back(9);\n",
    "  h.push_back(12);\n",
    "  h.push_back(51);\n",
    "  h.push_back(21);\n",
    "\n",
    "  for(int i = 0; i < h.getSize(); i++) {\n",
    "    std::cout << h.at(i) << std::endl;\n",
    "  }\n",
    "\n",
    "  return 0;\n",
    "}"
   ]
  },
  {
   "cell_type": "code",
   "execution_count": null,
   "metadata": {
    "collapsed": true
   },
   "outputs": [],
   "source": []
  }
 ],
 "metadata": {
  "anaconda-cloud": {},
  "kernelspec": {
   "display_name": "C++",
   "language": "",
   "name": "cling"
  },
  "language_info": {
   "codemirror_mode": "text/x-c++src",
   "file_extension": ".c++",
   "mimetype": " text/x-c++src",
   "name": "c++"
  }
 },
 "nbformat": 4,
 "nbformat_minor": 1
}
