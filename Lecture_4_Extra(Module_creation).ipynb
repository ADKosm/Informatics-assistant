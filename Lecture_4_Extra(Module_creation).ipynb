{
 "cells": [
  {
   "cell_type": "markdown",
   "metadata": {},
   "source": [
    "Питон также позволяет создавать собственные модули. Это позволяет вынести разработанный Вами функционал в отдельный файл и использовать его в других программах"
   ]
  },
  {
   "cell_type": "code",
   "execution_count": 1,
   "metadata": {
    "collapsed": false
   },
   "outputs": [],
   "source": [
    "# К примеру, создадим модуль для работы с трехмерным вектором\n",
    "# Для начала необходимо создать отдельный файл с расширением .py\n",
    "# В нашем случае, пусть это будет vector.py\n",
    "# Тада! На этом этапе модуль уже создан. Однако в данный момент он абсолютно пуст. В любом случае, мы можем\n",
    "# его подключить к нашей программе."
   ]
  },
  {
   "cell_type": "code",
   "execution_count": 2,
   "metadata": {
    "collapsed": false
   },
   "outputs": [
    {
     "name": "stdout",
     "output_type": "stream",
     "text": [
      "Hello, world!\n"
     ]
    }
   ],
   "source": [
    "from vector import hello\n",
    "# Теперь напишем в этом файле приветствующую функцию\n",
    "# -------- этот код написан в файле модуля ------------\n",
    "def hello1():\n",
    "    print(\"Hello, world!\")\n",
    "# -----------------------------------------------------\n",
    "\n",
    "# И теперь мы можем вызвать эту функцию из модуля\n",
    "hello()"
   ]
  },
  {
   "cell_type": "code",
   "execution_count": 3,
   "metadata": {
    "collapsed": true
   },
   "outputs": [],
   "source": [
    "# Следующая задача - разработать сам функционал, после чего перенести его в соответствующий файл модуля\n",
    "# Изначально в Питоне нет такого объекта, как трехмерный вектор\n",
    "\n",
    "# Значит нам необходимо создать свой тип данных. Для этого в Питоне используется ключевое слово class\n",
    "class Vector3D: # Новый тип данных Vector3D. На данный момент пустой.\n",
    "    def __init__(self):\n",
    "        pass"
   ]
  },
  {
   "cell_type": "code",
   "execution_count": 4,
   "metadata": {
    "collapsed": true
   },
   "outputs": [],
   "source": [
    "# К каждому типу данных можно добавить функцию\n",
    "# Добавим приметствующую функцию в наш тип\n",
    "\n",
    "class Vector3D:\n",
    "    def __init__(self):\n",
    "        pass\n",
    "    def sayHello(self):\n",
    "        print(\"Hello, world!\")"
   ]
  },
  {
   "cell_type": "code",
   "execution_count": 5,
   "metadata": {
    "collapsed": false
   },
   "outputs": [
    {
     "name": "stdout",
     "output_type": "stream",
     "text": [
      "Hello, world!\n"
     ]
    }
   ],
   "source": [
    "# Теперь можно создать объект и попросить его попреветствовать этот мир\n",
    "v = Vector3D()\n",
    "\n",
    "v.sayHello()"
   ]
  },
  {
   "cell_type": "code",
   "execution_count": 6,
   "metadata": {
    "collapsed": false
   },
   "outputs": [
    {
     "ename": "NameError",
     "evalue": "name 'sayHello' is not defined",
     "output_type": "error",
     "traceback": [
      "\u001b[1;31m---------------------------------------------------------------------------\u001b[0m",
      "\u001b[1;31mNameError\u001b[0m                                 Traceback (most recent call last)",
      "\u001b[1;32m<ipython-input-6-710d6fcaf161>\u001b[0m in \u001b[0;36m<module>\u001b[1;34m()\u001b[0m\n\u001b[0;32m      1\u001b[0m \u001b[1;31m# Эта функция появилась только у нашего типа. Просто так ее вызвать нельзя\u001b[0m\u001b[1;33m\u001b[0m\u001b[1;33m\u001b[0m\u001b[0m\n\u001b[1;32m----> 2\u001b[1;33m \u001b[0msayHello\u001b[0m\u001b[1;33m(\u001b[0m\u001b[1;33m)\u001b[0m\u001b[1;33m\u001b[0m\u001b[0m\n\u001b[0m",
      "\u001b[1;31mNameError\u001b[0m: name 'sayHello' is not defined"
     ]
    }
   ],
   "source": [
    "# Эта функция появилась только у нашего типа. Просто так ее вызвать нельзя\n",
    "sayHello()"
   ]
  },
  {
   "cell_type": "code",
   "execution_count": 7,
   "metadata": {
    "collapsed": false
   },
   "outputs": [
    {
     "name": "stdout",
     "output_type": "stream",
     "text": [
      "2 3 4\n"
     ]
    }
   ],
   "source": [
    "# Как можно было уже заметить у нашего типа изначально была написала пустая функция __init__\n",
    "# Эта функция вызывается каждый раз, когда создается новый объект\n",
    "# Первый агрумент self - это ссылка на созданный объект, у которого вызывается функция. Он должен присутствовать\n",
    "# У каждой функции типа\n",
    "# Помимо self эта функция может принимать любые другие аргументы, как обычная функция\n",
    "# Добавим хранение координат нашего вектора\n",
    "\n",
    "class Vector3D: \n",
    "    def __init__(self, x, y, z):\n",
    "        self.x = x # Записываем значение переданных аргументов в наш объект\n",
    "        self.y = y\n",
    "        self.z = z\n",
    "        \n",
    "v = Vector3D(2, 3, 4) # Передаем координаты вектора\n",
    "print(v.x, v.y, v.z)"
   ]
  },
  {
   "cell_type": "code",
   "execution_count": 9,
   "metadata": {
    "collapsed": false
   },
   "outputs": [
    {
     "name": "stdout",
     "output_type": "stream",
     "text": [
      "(7;6;5)\n"
     ]
    }
   ],
   "source": [
    "# Наши векторы можно складывать\n",
    "# Для того, чтобы можно было использовать знак +  с нашим объектом, необходимо добавить функцию __add__\n",
    "# Также полезная функция __str__ которая вызывается при попытке напечатать объект\n",
    "\n",
    "class Vector3D: \n",
    "    def __init__(self, x, y, z):\n",
    "        self.x = x # Записываем значение переданных аргументов в наш объект\n",
    "        self.y = y\n",
    "        self.z = z\n",
    "    def __str__(self):\n",
    "        return \"({0};{1};{2})\".format(self.x, self.y, self.z)\n",
    "    def __add__(self, other): # обрабатывает ситуацию self + other\n",
    "        newx = self.x + other.x\n",
    "        newy = self.y + other.y\n",
    "        newz = self.z + other.z\n",
    "        return Vector3D(newx, newy, newz)\n",
    "    \n",
    "    \n",
    "v = Vector3D(2, 3, 4)\n",
    "w = Vector3D(5, 3, 1)\n",
    "c = v + w\n",
    "print(c)"
   ]
  },
  {
   "cell_type": "code",
   "execution_count": 10,
   "metadata": {
    "collapsed": false
   },
   "outputs": [
    {
     "name": "stdout",
     "output_type": "stream",
     "text": [
      "(7;6;5)\n",
      "(-3;0;3)\n",
      "(6;9;12)\n",
      "(20;12;4)\n"
     ]
    }
   ],
   "source": [
    "# Реализуем также вычитание и умножение на число\n",
    "class Vector3D: \n",
    "    def __init__(self, x, y, z):\n",
    "        self.x = x # Записываем значение переданных аргументов в наш объект\n",
    "        self.y = y\n",
    "        self.z = z\n",
    "    def __str__(self):\n",
    "        return \"({0};{1};{2})\".format(self.x, self.y, self.z)\n",
    "    def __add__(self, other): # обрабатывает ситуацию self + other\n",
    "        newx = self.x + other.x\n",
    "        newy = self.y + other.y\n",
    "        newz = self.z + other.z\n",
    "        return Vector3D(newx, newy, newz)\n",
    "    def __mul__(self, other): # умножение\n",
    "        return Vector3D(self.x * other, self.y * other, self.z * other)\n",
    "    def __sub__(self, other): \n",
    "        return self + (other * (-1)) # использование ранее определенных операторов\n",
    "    \n",
    "v = Vector3D(2, 3, 4)\n",
    "w = Vector3D(5, 3, 1)\n",
    "\n",
    "print(v+w, v-w, v*3, w*4, sep='\\n')"
   ]
  },
  {
   "cell_type": "code",
   "execution_count": 13,
   "metadata": {
    "collapsed": false
   },
   "outputs": [
    {
     "name": "stdout",
     "output_type": "stream",
     "text": [
      "23\n",
      "(-9;2;-9)\n"
     ]
    }
   ],
   "source": [
    "# Две вектора также можно умножить скалярно и векторно\n",
    "# Для красоты будем обозначать скалярное умножение через ^, а векторное через &\n",
    "\n",
    "class Vector3D: \n",
    "    def __init__(self, x, y, z):\n",
    "        self.x = x # Записываем значение переданных аргументов в наш объект\n",
    "        self.y = y\n",
    "        self.z = z\n",
    "    def __str__(self):\n",
    "        return \"({0};{1};{2})\".format(self.x, self.y, self.z)\n",
    "    def __add__(self, other): # обрабатывает ситуацию self + other\n",
    "        newx = self.x + other.x\n",
    "        newy = self.y + other.y\n",
    "        newz = self.z + other.z\n",
    "        return Vector3D(newx, newy, newz)\n",
    "    def __mul__(self, other): # умножение\n",
    "        return Vector3D(self.x * other, self.y * other, self.z * other)\n",
    "    def __sub__(self, other): \n",
    "        return self + (other * (-1)) # использование ранее определенных операторов\n",
    "    def __xor__(self, other): # self ^ other\n",
    "        return self.x*other.x + self.y*other.y + self.z*other.z\n",
    "    def __and__(self, other): # self & other\n",
    "        newx = self.y*other.z-self.z*other.y\n",
    "        newy = self.z*other.z-self.x*other.z\n",
    "        newz = self.x*other.y-self.y*other.x\n",
    "        return Vector3D(newx, newy, newz)\n",
    "    \n",
    "v = Vector3D(2, 3, 4)\n",
    "w = Vector3D(5, 3, 1)\n",
    "\n",
    "print(v ^ w, v & w, sep='\\n')"
   ]
  },
  {
   "cell_type": "code",
   "execution_count": 16,
   "metadata": {
    "collapsed": false
   },
   "outputs": [
    {
     "name": "stdout",
     "output_type": "stream",
     "text": [
      "1.7320508075688772\n",
      "7.0\n"
     ]
    }
   ],
   "source": [
    "# Также добавим функцию длинны вектора\n",
    "class Vector3D: \n",
    "    def __init__(self, x, y, z):\n",
    "        self.x = x # Записываем значение переданных аргументов в наш объект\n",
    "        self.y = y\n",
    "        self.z = z\n",
    "    def __str__(self):\n",
    "        return \"({0};{1};{2})\".format(self.x, self.y, self.z)\n",
    "    def __add__(self, other): # обрабатывает ситуацию self + other\n",
    "        newx = self.x + other.x\n",
    "        newy = self.y + other.y\n",
    "        newz = self.z + other.z\n",
    "        return Vector3D(newx, newy, newz)\n",
    "    def __mul__(self, other): # умножение\n",
    "        return Vector3D(self.x * other, self.y * other, self.z * other)\n",
    "    def __sub__(self, other): \n",
    "        return self + (other * (-1)) # использование ранее определенных операторов\n",
    "    def __xor__(self, other): # self ^ other\n",
    "        return self.x*other.x + self.y*other.y + self.z*other.z\n",
    "    def __and__(self, other): # self & other\n",
    "        newx = self.y*other.z-self.z*other.y\n",
    "        newy = self.z*other.z-self.x*other.z\n",
    "        newz = self.x*other.y-self.y*other.x\n",
    "        return Vector3D(newx, newy, newz)\n",
    "    def lenght(self):\n",
    "        return (self ^ self) ** (0.5)\n",
    "    \n",
    "v = Vector3D(1, 1, 1)\n",
    "w = Vector3D(2, 3, 6)\n",
    "\n",
    "print(v.lenght(), w.lenght(), sep='\\n')"
   ]
  },
  {
   "cell_type": "code",
   "execution_count": 17,
   "metadata": {
    "collapsed": true
   },
   "outputs": [],
   "source": [
    "# Перенесем весь наш написанный класс внуть файла модуля\n",
    "# Кроме нашего класса там также может находиться любые функции. Например, можем добавить смешанное произведение,\n",
    "# определенное для трех векторов\n",
    "# -------- этот код написан в файле модуля ------------\n",
    "def tripleProduct(a, b, c):\n",
    "    return a ^ (b & c)\n",
    "# -----------------------------------------------------"
   ]
  },
  {
   "cell_type": "code",
   "execution_count": 4,
   "metadata": {
    "collapsed": false
   },
   "outputs": [
    {
     "name": "stdout",
     "output_type": "stream",
     "text": [
      "(5;11;15)\n",
      "(1;-1;-3)\n",
      "(15;25;30)\n",
      "90\n",
      "(9;27;8)\n"
     ]
    }
   ],
   "source": [
    "# Теперь можем подключить модуль и пользоваться новым удобным типом данных для трехмерных векторов\n",
    "from vector import Vector3D\n",
    "v = Vector3D(3, 5, 6)\n",
    "w = Vector3D(2, 6, 9)\n",
    "\n",
    "print(v+w, v-w, v*5, v ^ w, v & w, sep='\\n')"
   ]
  },
  {
   "cell_type": "code",
   "execution_count": 5,
   "metadata": {
    "collapsed": false
   },
   "outputs": [
    {
     "name": "stdout",
     "output_type": "stream",
     "text": [
      "-602\n"
     ]
    }
   ],
   "source": [
    "from vector import tripleProduct\n",
    "\n",
    "a = Vector3D(3, 4, 5)\n",
    "b = Vector3D(5, 7, 8)\n",
    "c = Vector3D(23, 5, 6)\n",
    "\n",
    "print(tripleProduct(a, b, c))"
   ]
  },
  {
   "cell_type": "code",
   "execution_count": null,
   "metadata": {
    "collapsed": true
   },
   "outputs": [],
   "source": []
  }
 ],
 "metadata": {
  "kernelspec": {
   "display_name": "Python 3",
   "language": "python",
   "name": "python3"
  },
  "language_info": {
   "codemirror_mode": {
    "name": "ipython",
    "version": 3
   },
   "file_extension": ".py",
   "mimetype": "text/x-python",
   "name": "python",
   "nbconvert_exporter": "python",
   "pygments_lexer": "ipython3",
   "version": "3.5.1"
  }
 },
 "nbformat": 4,
 "nbformat_minor": 0
}
